{
  "nbformat": 4,
  "nbformat_minor": 0,
  "metadata": {
    "colab": {
      "name": "Football Analysis.ipynb",
      "provenance": [],
      "collapsed_sections": []
    },
    "kernelspec": {
      "name": "python3",
      "display_name": "Python 3"
    },
    "language_info": {
      "name": "python"
    }
  },
  "cells": [
    {
      "cell_type": "markdown",
      "metadata": {
        "id": "B9f467vvxl0r"
      },
      "source": [
        "#Importing Libraries"
      ]
    },
    {
      "cell_type": "code",
      "metadata": {
        "id": "Sz8JFWEhLlxz"
      },
      "source": [
        "import pandas as pd #linear algebra\n",
        "import numpy as np #data processing\n",
        "import matplotlib.pyplot as plt #for plotting\n",
        "import seaborn as sns #for plotting"
      ],
      "execution_count": 1,
      "outputs": []
    },
    {
      "cell_type": "markdown",
      "metadata": {
        "id": "6Dz_dK5lxwwb"
      },
      "source": [
        "#Loading the datasets"
      ]
    },
    {
      "cell_type": "code",
      "metadata": {
        "colab": {
          "base_uri": "https://localhost:8080/",
          "height": 309
        },
        "id": "RMEKjs94jkjT",
        "outputId": "b90dd7c8-5ef9-43cd-fbea-4be583cb9c4c"
      },
      "source": [
        "#loading fifa ranking dataset\n",
        "fifa_ranking = pd.read_csv('/content/fifa_ranking.csv')\n",
        "fifa_ranking.head()"
      ],
      "execution_count": 2,
      "outputs": [
        {
          "output_type": "execute_result",
          "data": {
            "text/html": [
              "<div>\n",
              "<style scoped>\n",
              "    .dataframe tbody tr th:only-of-type {\n",
              "        vertical-align: middle;\n",
              "    }\n",
              "\n",
              "    .dataframe tbody tr th {\n",
              "        vertical-align: top;\n",
              "    }\n",
              "\n",
              "    .dataframe thead th {\n",
              "        text-align: right;\n",
              "    }\n",
              "</style>\n",
              "<table border=\"1\" class=\"dataframe\">\n",
              "  <thead>\n",
              "    <tr style=\"text-align: right;\">\n",
              "      <th></th>\n",
              "      <th>rank</th>\n",
              "      <th>country_full</th>\n",
              "      <th>country_abrv</th>\n",
              "      <th>total_points</th>\n",
              "      <th>previous_points</th>\n",
              "      <th>rank_change</th>\n",
              "      <th>cur_year_avg</th>\n",
              "      <th>cur_year_avg_weighted</th>\n",
              "      <th>last_year_avg</th>\n",
              "      <th>last_year_avg_weighted</th>\n",
              "      <th>two_year_ago_avg</th>\n",
              "      <th>two_year_ago_weighted</th>\n",
              "      <th>three_year_ago_avg</th>\n",
              "      <th>three_year_ago_weighted</th>\n",
              "      <th>confederation</th>\n",
              "      <th>rank_date</th>\n",
              "    </tr>\n",
              "  </thead>\n",
              "  <tbody>\n",
              "    <tr>\n",
              "      <th>0</th>\n",
              "      <td>1</td>\n",
              "      <td>Germany</td>\n",
              "      <td>GER</td>\n",
              "      <td>0.0</td>\n",
              "      <td>57</td>\n",
              "      <td>0</td>\n",
              "      <td>0.0</td>\n",
              "      <td>0.0</td>\n",
              "      <td>0.0</td>\n",
              "      <td>0.0</td>\n",
              "      <td>0.0</td>\n",
              "      <td>0.0</td>\n",
              "      <td>0.0</td>\n",
              "      <td>0.0</td>\n",
              "      <td>UEFA</td>\n",
              "      <td>1993-08-08</td>\n",
              "    </tr>\n",
              "    <tr>\n",
              "      <th>1</th>\n",
              "      <td>2</td>\n",
              "      <td>Italy</td>\n",
              "      <td>ITA</td>\n",
              "      <td>0.0</td>\n",
              "      <td>57</td>\n",
              "      <td>0</td>\n",
              "      <td>0.0</td>\n",
              "      <td>0.0</td>\n",
              "      <td>0.0</td>\n",
              "      <td>0.0</td>\n",
              "      <td>0.0</td>\n",
              "      <td>0.0</td>\n",
              "      <td>0.0</td>\n",
              "      <td>0.0</td>\n",
              "      <td>UEFA</td>\n",
              "      <td>1993-08-08</td>\n",
              "    </tr>\n",
              "    <tr>\n",
              "      <th>2</th>\n",
              "      <td>3</td>\n",
              "      <td>Switzerland</td>\n",
              "      <td>SUI</td>\n",
              "      <td>0.0</td>\n",
              "      <td>50</td>\n",
              "      <td>9</td>\n",
              "      <td>0.0</td>\n",
              "      <td>0.0</td>\n",
              "      <td>0.0</td>\n",
              "      <td>0.0</td>\n",
              "      <td>0.0</td>\n",
              "      <td>0.0</td>\n",
              "      <td>0.0</td>\n",
              "      <td>0.0</td>\n",
              "      <td>UEFA</td>\n",
              "      <td>1993-08-08</td>\n",
              "    </tr>\n",
              "    <tr>\n",
              "      <th>3</th>\n",
              "      <td>4</td>\n",
              "      <td>Sweden</td>\n",
              "      <td>SWE</td>\n",
              "      <td>0.0</td>\n",
              "      <td>55</td>\n",
              "      <td>0</td>\n",
              "      <td>0.0</td>\n",
              "      <td>0.0</td>\n",
              "      <td>0.0</td>\n",
              "      <td>0.0</td>\n",
              "      <td>0.0</td>\n",
              "      <td>0.0</td>\n",
              "      <td>0.0</td>\n",
              "      <td>0.0</td>\n",
              "      <td>UEFA</td>\n",
              "      <td>1993-08-08</td>\n",
              "    </tr>\n",
              "    <tr>\n",
              "      <th>4</th>\n",
              "      <td>5</td>\n",
              "      <td>Argentina</td>\n",
              "      <td>ARG</td>\n",
              "      <td>0.0</td>\n",
              "      <td>51</td>\n",
              "      <td>5</td>\n",
              "      <td>0.0</td>\n",
              "      <td>0.0</td>\n",
              "      <td>0.0</td>\n",
              "      <td>0.0</td>\n",
              "      <td>0.0</td>\n",
              "      <td>0.0</td>\n",
              "      <td>0.0</td>\n",
              "      <td>0.0</td>\n",
              "      <td>CONMEBOL</td>\n",
              "      <td>1993-08-08</td>\n",
              "    </tr>\n",
              "  </tbody>\n",
              "</table>\n",
              "</div>"
            ],
            "text/plain": [
              "   rank country_full  ... confederation   rank_date\n",
              "0     1      Germany  ...          UEFA  1993-08-08\n",
              "1     2        Italy  ...          UEFA  1993-08-08\n",
              "2     3  Switzerland  ...          UEFA  1993-08-08\n",
              "3     4       Sweden  ...          UEFA  1993-08-08\n",
              "4     5    Argentina  ...      CONMEBOL  1993-08-08\n",
              "\n",
              "[5 rows x 16 columns]"
            ]
          },
          "metadata": {},
          "execution_count": 2
        }
      ]
    },
    {
      "cell_type": "code",
      "metadata": {
        "colab": {
          "base_uri": "https://localhost:8080/",
          "height": 589
        },
        "id": "g2p2bbNsmkFW",
        "outputId": "b6dc5c33-6da4-4dcf-f1c4-26ab913445d2"
      },
      "source": [
        "#Loading the results dataset\n",
        "results = pd.read_csv('/content/results.csv')\n",
        "results"
      ],
      "execution_count": 3,
      "outputs": [
        {
          "output_type": "execute_result",
          "data": {
            "text/html": [
              "<div>\n",
              "<style scoped>\n",
              "    .dataframe tbody tr th:only-of-type {\n",
              "        vertical-align: middle;\n",
              "    }\n",
              "\n",
              "    .dataframe tbody tr th {\n",
              "        vertical-align: top;\n",
              "    }\n",
              "\n",
              "    .dataframe thead th {\n",
              "        text-align: right;\n",
              "    }\n",
              "</style>\n",
              "<table border=\"1\" class=\"dataframe\">\n",
              "  <thead>\n",
              "    <tr style=\"text-align: right;\">\n",
              "      <th></th>\n",
              "      <th>date</th>\n",
              "      <th>home_team</th>\n",
              "      <th>away_team</th>\n",
              "      <th>home_score</th>\n",
              "      <th>away_score</th>\n",
              "      <th>tournament</th>\n",
              "      <th>city</th>\n",
              "      <th>country</th>\n",
              "      <th>neutral</th>\n",
              "    </tr>\n",
              "  </thead>\n",
              "  <tbody>\n",
              "    <tr>\n",
              "      <th>0</th>\n",
              "      <td>1872-11-30</td>\n",
              "      <td>Scotland</td>\n",
              "      <td>England</td>\n",
              "      <td>0</td>\n",
              "      <td>0</td>\n",
              "      <td>Friendly</td>\n",
              "      <td>Glasgow</td>\n",
              "      <td>Scotland</td>\n",
              "      <td>False</td>\n",
              "    </tr>\n",
              "    <tr>\n",
              "      <th>1</th>\n",
              "      <td>1873-03-08</td>\n",
              "      <td>England</td>\n",
              "      <td>Scotland</td>\n",
              "      <td>4</td>\n",
              "      <td>2</td>\n",
              "      <td>Friendly</td>\n",
              "      <td>London</td>\n",
              "      <td>England</td>\n",
              "      <td>False</td>\n",
              "    </tr>\n",
              "    <tr>\n",
              "      <th>2</th>\n",
              "      <td>1874-03-07</td>\n",
              "      <td>Scotland</td>\n",
              "      <td>England</td>\n",
              "      <td>2</td>\n",
              "      <td>1</td>\n",
              "      <td>Friendly</td>\n",
              "      <td>Glasgow</td>\n",
              "      <td>Scotland</td>\n",
              "      <td>False</td>\n",
              "    </tr>\n",
              "    <tr>\n",
              "      <th>3</th>\n",
              "      <td>1875-03-06</td>\n",
              "      <td>England</td>\n",
              "      <td>Scotland</td>\n",
              "      <td>2</td>\n",
              "      <td>2</td>\n",
              "      <td>Friendly</td>\n",
              "      <td>London</td>\n",
              "      <td>England</td>\n",
              "      <td>False</td>\n",
              "    </tr>\n",
              "    <tr>\n",
              "      <th>4</th>\n",
              "      <td>1876-03-04</td>\n",
              "      <td>Scotland</td>\n",
              "      <td>England</td>\n",
              "      <td>3</td>\n",
              "      <td>0</td>\n",
              "      <td>Friendly</td>\n",
              "      <td>Glasgow</td>\n",
              "      <td>Scotland</td>\n",
              "      <td>False</td>\n",
              "    </tr>\n",
              "    <tr>\n",
              "      <th>...</th>\n",
              "      <td>...</td>\n",
              "      <td>...</td>\n",
              "      <td>...</td>\n",
              "      <td>...</td>\n",
              "      <td>...</td>\n",
              "      <td>...</td>\n",
              "      <td>...</td>\n",
              "      <td>...</td>\n",
              "      <td>...</td>\n",
              "    </tr>\n",
              "    <tr>\n",
              "      <th>40834</th>\n",
              "      <td>2019-07-18</td>\n",
              "      <td>American Samoa</td>\n",
              "      <td>Tahiti</td>\n",
              "      <td>8</td>\n",
              "      <td>1</td>\n",
              "      <td>Pacific Games</td>\n",
              "      <td>Apia</td>\n",
              "      <td>Samoa</td>\n",
              "      <td>True</td>\n",
              "    </tr>\n",
              "    <tr>\n",
              "      <th>40835</th>\n",
              "      <td>2019-07-18</td>\n",
              "      <td>Fiji</td>\n",
              "      <td>Solomon Islands</td>\n",
              "      <td>4</td>\n",
              "      <td>4</td>\n",
              "      <td>Pacific Games</td>\n",
              "      <td>Apia</td>\n",
              "      <td>Samoa</td>\n",
              "      <td>True</td>\n",
              "    </tr>\n",
              "    <tr>\n",
              "      <th>40836</th>\n",
              "      <td>2019-07-19</td>\n",
              "      <td>Senegal</td>\n",
              "      <td>Algeria</td>\n",
              "      <td>0</td>\n",
              "      <td>1</td>\n",
              "      <td>African Cup of Nations</td>\n",
              "      <td>Cairo</td>\n",
              "      <td>Egypt</td>\n",
              "      <td>True</td>\n",
              "    </tr>\n",
              "    <tr>\n",
              "      <th>40837</th>\n",
              "      <td>2019-07-19</td>\n",
              "      <td>Tajikistan</td>\n",
              "      <td>North Korea</td>\n",
              "      <td>0</td>\n",
              "      <td>1</td>\n",
              "      <td>Intercontinental Cup</td>\n",
              "      <td>Ahmedabad</td>\n",
              "      <td>India</td>\n",
              "      <td>True</td>\n",
              "    </tr>\n",
              "    <tr>\n",
              "      <th>40838</th>\n",
              "      <td>2019-07-20</td>\n",
              "      <td>Papua New Guinea</td>\n",
              "      <td>Fiji</td>\n",
              "      <td>1</td>\n",
              "      <td>1</td>\n",
              "      <td>Pacific Games</td>\n",
              "      <td>Apia</td>\n",
              "      <td>Samoa</td>\n",
              "      <td>True</td>\n",
              "    </tr>\n",
              "  </tbody>\n",
              "</table>\n",
              "<p>40839 rows × 9 columns</p>\n",
              "</div>"
            ],
            "text/plain": [
              "             date         home_team  ...   country  neutral\n",
              "0      1872-11-30          Scotland  ...  Scotland    False\n",
              "1      1873-03-08           England  ...   England    False\n",
              "2      1874-03-07          Scotland  ...  Scotland    False\n",
              "3      1875-03-06           England  ...   England    False\n",
              "4      1876-03-04          Scotland  ...  Scotland    False\n",
              "...           ...               ...  ...       ...      ...\n",
              "40834  2019-07-18    American Samoa  ...     Samoa     True\n",
              "40835  2019-07-18              Fiji  ...     Samoa     True\n",
              "40836  2019-07-19           Senegal  ...     Egypt     True\n",
              "40837  2019-07-19        Tajikistan  ...     India     True\n",
              "40838  2019-07-20  Papua New Guinea  ...     Samoa     True\n",
              "\n",
              "[40839 rows x 9 columns]"
            ]
          },
          "metadata": {},
          "execution_count": 3
        }
      ]
    },
    {
      "cell_type": "markdown",
      "metadata": {
        "id": "lcoMIWeAFY11"
      },
      "source": [
        "#Accessing information in the datasets"
      ]
    },
    {
      "cell_type": "markdown",
      "metadata": {
        "id": "Y23TeDSWF0rU"
      },
      "source": [
        "1.Fifa Ranking"
      ]
    },
    {
      "cell_type": "code",
      "metadata": {
        "colab": {
          "base_uri": "https://localhost:8080/"
        },
        "id": "wEjCM5enFrRM",
        "outputId": "f6477e5a-7ec9-4fad-a362-7a360ea40e24"
      },
      "source": [
        "#Checking the number of rows and columns for fifa\n",
        "#ranking dataset\n",
        "fifa_ranking.shape"
      ],
      "execution_count": 4,
      "outputs": [
        {
          "output_type": "execute_result",
          "data": {
            "text/plain": [
              "(57793, 16)"
            ]
          },
          "metadata": {},
          "execution_count": 4
        }
      ]
    },
    {
      "cell_type": "code",
      "metadata": {
        "colab": {
          "base_uri": "https://localhost:8080/"
        },
        "id": "b2VomMXHGQkD",
        "outputId": "9ccbf4c4-d09a-458c-8acd-19224e1161ca"
      },
      "source": [
        "#checking for datatypes\n",
        "fifa_ranking.dtypes"
      ],
      "execution_count": 5,
      "outputs": [
        {
          "output_type": "execute_result",
          "data": {
            "text/plain": [
              "rank                         int64\n",
              "country_full                object\n",
              "country_abrv                object\n",
              "total_points               float64\n",
              "previous_points              int64\n",
              "rank_change                  int64\n",
              "cur_year_avg               float64\n",
              "cur_year_avg_weighted      float64\n",
              "last_year_avg              float64\n",
              "last_year_avg_weighted     float64\n",
              "two_year_ago_avg           float64\n",
              "two_year_ago_weighted      float64\n",
              "three_year_ago_avg         float64\n",
              "three_year_ago_weighted    float64\n",
              "confederation               object\n",
              "rank_date                   object\n",
              "dtype: object"
            ]
          },
          "metadata": {},
          "execution_count": 5
        }
      ]
    },
    {
      "cell_type": "code",
      "metadata": {
        "colab": {
          "base_uri": "https://localhost:8080/"
        },
        "id": "bJ6XxL_lGk8k",
        "outputId": "728dcd29-fd38-46cf-d2a4-083ffa0d6ed4"
      },
      "source": [
        "#checking for info\n",
        "fifa_ranking.info()"
      ],
      "execution_count": 6,
      "outputs": [
        {
          "output_type": "stream",
          "name": "stdout",
          "text": [
            "<class 'pandas.core.frame.DataFrame'>\n",
            "RangeIndex: 57793 entries, 0 to 57792\n",
            "Data columns (total 16 columns):\n",
            " #   Column                   Non-Null Count  Dtype  \n",
            "---  ------                   --------------  -----  \n",
            " 0   rank                     57793 non-null  int64  \n",
            " 1   country_full             57793 non-null  object \n",
            " 2   country_abrv             57793 non-null  object \n",
            " 3   total_points             57793 non-null  float64\n",
            " 4   previous_points          57793 non-null  int64  \n",
            " 5   rank_change              57793 non-null  int64  \n",
            " 6   cur_year_avg             57793 non-null  float64\n",
            " 7   cur_year_avg_weighted    57793 non-null  float64\n",
            " 8   last_year_avg            57793 non-null  float64\n",
            " 9   last_year_avg_weighted   57793 non-null  float64\n",
            " 10  two_year_ago_avg         57793 non-null  float64\n",
            " 11  two_year_ago_weighted    57793 non-null  float64\n",
            " 12  three_year_ago_avg       57793 non-null  float64\n",
            " 13  three_year_ago_weighted  57793 non-null  float64\n",
            " 14  confederation            57793 non-null  object \n",
            " 15  rank_date                57793 non-null  object \n",
            "dtypes: float64(9), int64(3), object(4)\n",
            "memory usage: 7.1+ MB\n"
          ]
        }
      ]
    },
    {
      "cell_type": "markdown",
      "metadata": {
        "id": "oDCfG3TdJ12b"
      },
      "source": [
        "2.Results"
      ]
    },
    {
      "cell_type": "code",
      "metadata": {
        "colab": {
          "base_uri": "https://localhost:8080/"
        },
        "id": "NdnZus3uJ7S6",
        "outputId": "f5fafbd4-a357-4f37-d372-3e21cd9ab791"
      },
      "source": [
        "#checking for the number of rows and columns in the results dataset\n",
        "results.shape"
      ],
      "execution_count": 7,
      "outputs": [
        {
          "output_type": "execute_result",
          "data": {
            "text/plain": [
              "(40839, 9)"
            ]
          },
          "metadata": {},
          "execution_count": 7
        }
      ]
    },
    {
      "cell_type": "code",
      "metadata": {
        "colab": {
          "base_uri": "https://localhost:8080/"
        },
        "id": "3RmbHYptKA7l",
        "outputId": "fea491a2-c860-4f9a-8d4b-bd99fad168b5"
      },
      "source": [
        "#checking for datatypes\n",
        "results.dtypes"
      ],
      "execution_count": 8,
      "outputs": [
        {
          "output_type": "execute_result",
          "data": {
            "text/plain": [
              "date          object\n",
              "home_team     object\n",
              "away_team     object\n",
              "home_score     int64\n",
              "away_score     int64\n",
              "tournament    object\n",
              "city          object\n",
              "country       object\n",
              "neutral         bool\n",
              "dtype: object"
            ]
          },
          "metadata": {},
          "execution_count": 8
        }
      ]
    },
    {
      "cell_type": "code",
      "metadata": {
        "colab": {
          "base_uri": "https://localhost:8080/"
        },
        "id": "uz_NLrmTKGTT",
        "outputId": "99cf4aea-7da4-4331-a438-085c2a134eed"
      },
      "source": [
        "#checking for info\n",
        "results.info()"
      ],
      "execution_count": 9,
      "outputs": [
        {
          "output_type": "stream",
          "name": "stdout",
          "text": [
            "<class 'pandas.core.frame.DataFrame'>\n",
            "RangeIndex: 40839 entries, 0 to 40838\n",
            "Data columns (total 9 columns):\n",
            " #   Column      Non-Null Count  Dtype \n",
            "---  ------      --------------  ----- \n",
            " 0   date        40839 non-null  object\n",
            " 1   home_team   40839 non-null  object\n",
            " 2   away_team   40839 non-null  object\n",
            " 3   home_score  40839 non-null  int64 \n",
            " 4   away_score  40839 non-null  int64 \n",
            " 5   tournament  40839 non-null  object\n",
            " 6   city        40839 non-null  object\n",
            " 7   country     40839 non-null  object\n",
            " 8   neutral     40839 non-null  bool  \n",
            "dtypes: bool(1), int64(2), object(6)\n",
            "memory usage: 2.5+ MB\n"
          ]
        }
      ]
    },
    {
      "cell_type": "markdown",
      "metadata": {
        "id": "aZCo78t6IH4p"
      },
      "source": [
        "#Data Cleaning"
      ]
    },
    {
      "cell_type": "markdown",
      "metadata": {
        "id": "IJMtywr6KTXR"
      },
      "source": [
        "#1.Fifa Ranking Dataset"
      ]
    },
    {
      "cell_type": "code",
      "metadata": {
        "colab": {
          "base_uri": "https://localhost:8080/"
        },
        "id": "e2MT33mfGxV7",
        "outputId": "3a463b84-fc97-4cf9-b35a-565a574c711f"
      },
      "source": [
        "#checking for null values\n",
        "fifa_ranking.isnull().sum()"
      ],
      "execution_count": 10,
      "outputs": [
        {
          "output_type": "execute_result",
          "data": {
            "text/plain": [
              "rank                       0\n",
              "country_full               0\n",
              "country_abrv               0\n",
              "total_points               0\n",
              "previous_points            0\n",
              "rank_change                0\n",
              "cur_year_avg               0\n",
              "cur_year_avg_weighted      0\n",
              "last_year_avg              0\n",
              "last_year_avg_weighted     0\n",
              "two_year_ago_avg           0\n",
              "two_year_ago_weighted      0\n",
              "three_year_ago_avg         0\n",
              "three_year_ago_weighted    0\n",
              "confederation              0\n",
              "rank_date                  0\n",
              "dtype: int64"
            ]
          },
          "metadata": {},
          "execution_count": 10
        }
      ]
    },
    {
      "cell_type": "code",
      "metadata": {
        "colab": {
          "base_uri": "https://localhost:8080/"
        },
        "id": "35VmOwlNKnqg",
        "outputId": "6ebaa577-0a5e-486f-b188-f12e9bb68ca7"
      },
      "source": [
        "#checking if we have duplicated values\n",
        "fifa_ranking.duplicated().any()"
      ],
      "execution_count": 11,
      "outputs": [
        {
          "output_type": "execute_result",
          "data": {
            "text/plain": [
              "True"
            ]
          },
          "metadata": {},
          "execution_count": 11
        }
      ]
    },
    {
      "cell_type": "code",
      "metadata": {
        "id": "7ky0OtVxNgAC"
      },
      "source": [
        "#Dropping duplicated values\n",
        "fifa_ranking.drop_duplicates(keep=False, inplace=True)"
      ],
      "execution_count": 12,
      "outputs": []
    },
    {
      "cell_type": "code",
      "metadata": {
        "colab": {
          "base_uri": "https://localhost:8080/"
        },
        "id": "-HsjEoHAON8p",
        "outputId": "d0464af2-dd0a-402b-b1d3-338e00e15cd6"
      },
      "source": [
        "#Confirming if the duplicates have actually been dropped\n",
        "fifa_ranking.duplicated().any()"
      ],
      "execution_count": 13,
      "outputs": [
        {
          "output_type": "execute_result",
          "data": {
            "text/plain": [
              "False"
            ]
          },
          "metadata": {},
          "execution_count": 13
        }
      ]
    },
    {
      "cell_type": "code",
      "metadata": {
        "colab": {
          "base_uri": "https://localhost:8080/"
        },
        "id": "XFfvLSGkLB6e",
        "outputId": "f9fa59ac-3069-43c5-b320-06bdf0e35d48"
      },
      "source": [
        "#checking for Anomalies/Outliers\n",
        "for i in fifa_ranking:\n",
        "  print(i, fifa_ranking[i].value_counts())"
      ],
      "execution_count": 14,
      "outputs": [
        {
          "output_type": "stream",
          "name": "stdout",
          "text": [
            "rank 147    303\n",
            "112    301\n",
            "199    300\n",
            "129    299\n",
            "153    299\n",
            "      ... \n",
            "204    157\n",
            "206    138\n",
            "207     89\n",
            "208     19\n",
            "209      9\n",
            "Name: rank, Length: 209, dtype: int64\n",
            "country_full Lebanon                          286\n",
            "Libya                            286\n",
            "St Vincent and the Grenadines    286\n",
            "Jamaica                          286\n",
            "Wales                            286\n",
            "                                ... \n",
            "Zaire                             66\n",
            "Serbia and Montenegro             43\n",
            "Kosovo                            24\n",
            "Gibraltar                         22\n",
            "RCS                                5\n",
            "Name: country_full, Length: 216, dtype: int64\n",
            "country_abrv ARU    286\n",
            "LAO    286\n",
            "CAN    286\n",
            "USA    286\n",
            "ALB    286\n",
            "      ... \n",
            "ZAI     66\n",
            "SCG     43\n",
            "KVX     24\n",
            "GIB     22\n",
            "TCH      5\n",
            "Name: country_abrv, Length: 216, dtype: int64\n",
            "total_points 0.00      40712\n",
            "63.75        48\n",
            "38.25        39\n",
            "66.00        33\n",
            "33.00        31\n",
            "          ...  \n",
            "218.49        1\n",
            "144.95        1\n",
            "164.04        1\n",
            "222.91        1\n",
            "702.88        1\n",
            "Name: total_points, Length: 11086, dtype: int64\n",
            "previous_points 0       1380\n",
            "6        351\n",
            "11       340\n",
            "8        330\n",
            "17       319\n",
            "        ... \n",
            "1393       1\n",
            "1617       1\n",
            "1649       1\n",
            "1139       1\n",
            "1391       1\n",
            "Name: previous_points, Length: 1557, dtype: int64\n",
            "rank_change  0     15445\n",
            "-1      8028\n",
            " 1      5880\n",
            "-2      4919\n",
            " 2      3228\n",
            "       ...  \n",
            "-62        1\n",
            " 77        1\n",
            " 82        1\n",
            " 60        1\n",
            " 73        1\n",
            "Name: rank_change, Length: 121, dtype: int64\n",
            "cur_year_avg 0.00      42516\n",
            "21.25        85\n",
            "63.75        78\n",
            "42.50        56\n",
            "66.00        55\n",
            "          ...  \n",
            "412.52        1\n",
            "251.39        1\n",
            "196.07        1\n",
            "181.01        1\n",
            "437.27        1\n",
            "Name: cur_year_avg, Length: 7396, dtype: int64\n",
            "cur_year_avg_weighted 0.00      42516\n",
            "21.25        85\n",
            "63.75        78\n",
            "42.50        56\n",
            "66.00        55\n",
            "          ...  \n",
            "412.52        1\n",
            "251.39        1\n",
            "196.07        1\n",
            "181.01        1\n",
            "437.27        1\n",
            "Name: cur_year_avg_weighted, Length: 7396, dtype: int64\n",
            "last_year_avg 0.00      42634\n",
            "66.00        79\n",
            "21.25        69\n",
            "63.75        62\n",
            "26.40        57\n",
            "          ...  \n",
            "509.67        1\n",
            "247.83        1\n",
            "590.46        1\n",
            "524.46        1\n",
            "189.35        1\n",
            "Name: last_year_avg, Length: 7453, dtype: int64\n",
            "last_year_avg_weighted 0.00      42634\n",
            "33.00        79\n",
            "10.63        69\n",
            "31.88        62\n",
            "13.20        57\n",
            "          ...  \n",
            "166.08        1\n",
            "342.47        1\n",
            "21.67         1\n",
            "18.04         1\n",
            "120.67        1\n",
            "Name: last_year_avg_weighted, Length: 6982, dtype: int64\n",
            "two_year_ago_avg 0.00      42877\n",
            "66.00        78\n",
            "21.25        76\n",
            "25.50        70\n",
            "34.00        67\n",
            "          ...  \n",
            "441.00        1\n",
            "303.06        1\n",
            "95.85         1\n",
            "398.52        1\n",
            "468.13        1\n",
            "Name: two_year_ago_avg, Length: 7561, dtype: int64\n",
            "two_year_ago_weighted 0.00      42877\n",
            "19.80        78\n",
            "6.38         76\n",
            "7.65         70\n",
            "10.20        67\n",
            "          ...  \n",
            "261.91        1\n",
            "61.93         1\n",
            "111.66        1\n",
            "146.99        1\n",
            "157.26        1\n",
            "Name: two_year_ago_weighted, Length: 6503, dtype: int64\n",
            "three_year_ago_avg 0.00      42926\n",
            "25.50        72\n",
            "66.00        71\n",
            "34.00        69\n",
            "8.50         68\n",
            "          ...  \n",
            "373.52        1\n",
            "248.53        1\n",
            "513.11        1\n",
            "140.50        1\n",
            "109.71        1\n",
            "Name: three_year_ago_avg, Length: 7608, dtype: int64\n",
            "three_year_ago_weighted 0.00     42926\n",
            "5.10        72\n",
            "13.20       71\n",
            "6.80        69\n",
            "1.70        68\n",
            "         ...  \n",
            "84.88        1\n",
            "40.83        1\n",
            "20.59        1\n",
            "9.79         1\n",
            "6.00         1\n",
            "Name: three_year_ago_weighted, Length: 5835, dtype: int64\n",
            "confederation UEFA        14933\n",
            "CAF         14802\n",
            "AFC         12617\n",
            "CONCACAF     9664\n",
            "CONMEBOL     2860\n",
            "OFC          2843\n",
            "Name: confederation, dtype: int64\n",
            "rank_date 2017-07-06    211\n",
            "2016-12-22    211\n",
            "2017-08-10    211\n",
            "2017-10-16    211\n",
            "2017-01-12    211\n",
            "             ... \n",
            "1993-11-19    168\n",
            "1993-09-23    167\n",
            "1993-08-08    167\n",
            "1994-02-15    167\n",
            "1993-10-22    167\n",
            "Name: rank_date, Length: 286, dtype: int64\n"
          ]
        }
      ]
    },
    {
      "cell_type": "markdown",
      "metadata": {
        "id": "-23rJfDN6oE-"
      },
      "source": [
        "*The fifa ranking dataset doesn't contain any null values\n",
        "\n",
        "*The fifa ranking dataset contains duplicated values thus we drop them\n",
        "\n",
        "*The fifa ranking dataset doesn't contain any anomalies"
      ]
    },
    {
      "cell_type": "markdown",
      "metadata": {
        "id": "P50Zc5S4OwW7"
      },
      "source": [
        "#2.Results Dataset"
      ]
    },
    {
      "cell_type": "code",
      "metadata": {
        "colab": {
          "base_uri": "https://localhost:8080/"
        },
        "id": "riUgrSCHO2bs",
        "outputId": "2a38da11-1548-43a4-d473-7a9fb48e12fc"
      },
      "source": [
        "#Checking for null values\n",
        "results.isnull().sum()"
      ],
      "execution_count": 15,
      "outputs": [
        {
          "output_type": "execute_result",
          "data": {
            "text/plain": [
              "date          0\n",
              "home_team     0\n",
              "away_team     0\n",
              "home_score    0\n",
              "away_score    0\n",
              "tournament    0\n",
              "city          0\n",
              "country       0\n",
              "neutral       0\n",
              "dtype: int64"
            ]
          },
          "metadata": {},
          "execution_count": 15
        }
      ]
    },
    {
      "cell_type": "code",
      "metadata": {
        "colab": {
          "base_uri": "https://localhost:8080/"
        },
        "id": "uzVcTu2mPZOZ",
        "outputId": "8ba70574-cb90-4d83-897d-13ff8076cc68"
      },
      "source": [
        "#Checking for duplicates\n",
        "results.duplicated().any()"
      ],
      "execution_count": 16,
      "outputs": [
        {
          "output_type": "execute_result",
          "data": {
            "text/plain": [
              "False"
            ]
          },
          "metadata": {},
          "execution_count": 16
        }
      ]
    },
    {
      "cell_type": "code",
      "metadata": {
        "colab": {
          "base_uri": "https://localhost:8080/"
        },
        "id": "9nQx04goQPp3",
        "outputId": "37e1955e-d64f-4125-eb2f-5ed01ec06e3d"
      },
      "source": [
        "#Checking for Anomalies/Outliers\n",
        "for i in results:\n",
        "  print(i, results[i].value_counts())"
      ],
      "execution_count": 17,
      "outputs": [
        {
          "output_type": "stream",
          "name": "stdout",
          "text": [
            "date 2012-02-29    66\n",
            "2016-03-29    63\n",
            "2008-03-26    60\n",
            "2014-03-05    59\n",
            "2012-11-14    56\n",
            "              ..\n",
            "1996-04-14     1\n",
            "1973-06-22     1\n",
            "2009-11-11     1\n",
            "2010-07-06     1\n",
            "1970-08-19     1\n",
            "Name: date, Length: 15115, dtype: int64\n",
            "home_team Brazil                   563\n",
            "Argentina                545\n",
            "Mexico                   510\n",
            "Germany                  501\n",
            "England                  489\n",
            "                        ... \n",
            "Sark                       1\n",
            "Crimea                     1\n",
            "St. Pierre & Miquelon      1\n",
            "Central Spain              1\n",
            "Kabylia                    1\n",
            "Name: home_team, Length: 309, dtype: int64\n",
            "away_team Uruguay               536\n",
            "Sweden                527\n",
            "England               505\n",
            "Hungary               472\n",
            "Paraguay              448\n",
            "                     ... \n",
            "Surrey                  1\n",
            "Andalusia               1\n",
            "Corsica                 1\n",
            "Parishes of Jersey      1\n",
            "Central Spain           1\n",
            "Name: away_team, Length: 306, dtype: int64\n",
            "home_score 1     12073\n",
            "0      9800\n",
            "2      9039\n",
            "3      4803\n",
            "4      2477\n",
            "5      1182\n",
            "6       644\n",
            "7       346\n",
            "8       192\n",
            "9       116\n",
            "10       59\n",
            "11       33\n",
            "12       26\n",
            "13       13\n",
            "14       10\n",
            "15        7\n",
            "16        6\n",
            "17        3\n",
            "19        3\n",
            "30        1\n",
            "18        1\n",
            "20        1\n",
            "21        1\n",
            "22        1\n",
            "24        1\n",
            "31        1\n",
            "Name: home_score, dtype: int64\n",
            "away_score 0     15134\n",
            "1     13196\n",
            "2      7092\n",
            "3      3053\n",
            "4      1264\n",
            "5       530\n",
            "6       269\n",
            "7       133\n",
            "8        66\n",
            "9        36\n",
            "10       20\n",
            "12        8\n",
            "13        7\n",
            "11        6\n",
            "15        6\n",
            "18        5\n",
            "20        3\n",
            "16        3\n",
            "17        3\n",
            "14        2\n",
            "19        2\n",
            "21        1\n",
            "Name: away_score, dtype: int64\n",
            "tournament Friendly                                16911\n",
            "FIFA World Cup qualification             7100\n",
            "UEFA Euro qualification                  2432\n",
            "African Cup of Nations qualification     1616\n",
            "FIFA World Cup                            900\n",
            "                                        ...  \n",
            "World Unity Cup                             4\n",
            "OSN Cup                                     4\n",
            "AFF Championship qualification              2\n",
            "Atlantic Heritage Cup                       2\n",
            "Copa América qualification                  2\n",
            "Name: tournament, Length: 109, dtype: int64\n",
            "city Kuala Lumpur     581\n",
            "Doha             437\n",
            "Bangkok          427\n",
            "London           391\n",
            "Budapest         383\n",
            "                ... \n",
            "Choa Chu Kang      1\n",
            "Gweru              1\n",
            "Coventry           1\n",
            "South Geelong      1\n",
            "Trenčín            1\n",
            "Name: city, Length: 1960, dtype: int64\n",
            "country United States          1144\n",
            "France                  801\n",
            "England                 687\n",
            "Malaysia                644\n",
            "Sweden                  637\n",
            "                       ... \n",
            "Micronesia                1\n",
            "Portuguese Guinea         1\n",
            "Lautoka                   1\n",
            "Bohemia and Moravia       1\n",
            "Belgian Congo             1\n",
            "Name: country, Length: 266, dtype: int64\n",
            "neutral False    30680\n",
            "True     10159\n",
            "Name: neutral, dtype: int64\n"
          ]
        }
      ]
    },
    {
      "cell_type": "markdown",
      "metadata": {
        "id": "PuqY4tb_7wym"
      },
      "source": [
        "*The results dataset is clean with no null values, duplicates and anomalies"
      ]
    },
    {
      "cell_type": "markdown",
      "metadata": {
        "id": "3n3eIOzFROpr"
      },
      "source": [
        "#Exploratory Data Analysis"
      ]
    },
    {
      "cell_type": "markdown",
      "metadata": {
        "id": "S1UcgGcaSNgg"
      },
      "source": [
        "#Joining the two datasets"
      ]
    },
    {
      "cell_type": "code",
      "metadata": {
        "id": "LwyXaKmF8mop"
      },
      "source": [
        "#Renaming the necessary column that is going to be used to join onto\n",
        "#the other dataset\n",
        "fifa_ranking.rename(columns = {'country_full':'country'}, inplace=True)"
      ],
      "execution_count": 18,
      "outputs": []
    },
    {
      "cell_type": "code",
      "metadata": {
        "colab": {
          "base_uri": "https://localhost:8080/",
          "height": 309
        },
        "id": "NRh6n7bo9a4A",
        "outputId": "2cccb899-7887-4d1e-9d87-e93640fdd93e"
      },
      "source": [
        "#Viewing if the change has been made\n",
        "fifa_ranking.head()"
      ],
      "execution_count": 19,
      "outputs": [
        {
          "output_type": "execute_result",
          "data": {
            "text/html": [
              "<div>\n",
              "<style scoped>\n",
              "    .dataframe tbody tr th:only-of-type {\n",
              "        vertical-align: middle;\n",
              "    }\n",
              "\n",
              "    .dataframe tbody tr th {\n",
              "        vertical-align: top;\n",
              "    }\n",
              "\n",
              "    .dataframe thead th {\n",
              "        text-align: right;\n",
              "    }\n",
              "</style>\n",
              "<table border=\"1\" class=\"dataframe\">\n",
              "  <thead>\n",
              "    <tr style=\"text-align: right;\">\n",
              "      <th></th>\n",
              "      <th>rank</th>\n",
              "      <th>country</th>\n",
              "      <th>country_abrv</th>\n",
              "      <th>total_points</th>\n",
              "      <th>previous_points</th>\n",
              "      <th>rank_change</th>\n",
              "      <th>cur_year_avg</th>\n",
              "      <th>cur_year_avg_weighted</th>\n",
              "      <th>last_year_avg</th>\n",
              "      <th>last_year_avg_weighted</th>\n",
              "      <th>two_year_ago_avg</th>\n",
              "      <th>two_year_ago_weighted</th>\n",
              "      <th>three_year_ago_avg</th>\n",
              "      <th>three_year_ago_weighted</th>\n",
              "      <th>confederation</th>\n",
              "      <th>rank_date</th>\n",
              "    </tr>\n",
              "  </thead>\n",
              "  <tbody>\n",
              "    <tr>\n",
              "      <th>0</th>\n",
              "      <td>1</td>\n",
              "      <td>Germany</td>\n",
              "      <td>GER</td>\n",
              "      <td>0.0</td>\n",
              "      <td>57</td>\n",
              "      <td>0</td>\n",
              "      <td>0.0</td>\n",
              "      <td>0.0</td>\n",
              "      <td>0.0</td>\n",
              "      <td>0.0</td>\n",
              "      <td>0.0</td>\n",
              "      <td>0.0</td>\n",
              "      <td>0.0</td>\n",
              "      <td>0.0</td>\n",
              "      <td>UEFA</td>\n",
              "      <td>1993-08-08</td>\n",
              "    </tr>\n",
              "    <tr>\n",
              "      <th>1</th>\n",
              "      <td>2</td>\n",
              "      <td>Italy</td>\n",
              "      <td>ITA</td>\n",
              "      <td>0.0</td>\n",
              "      <td>57</td>\n",
              "      <td>0</td>\n",
              "      <td>0.0</td>\n",
              "      <td>0.0</td>\n",
              "      <td>0.0</td>\n",
              "      <td>0.0</td>\n",
              "      <td>0.0</td>\n",
              "      <td>0.0</td>\n",
              "      <td>0.0</td>\n",
              "      <td>0.0</td>\n",
              "      <td>UEFA</td>\n",
              "      <td>1993-08-08</td>\n",
              "    </tr>\n",
              "    <tr>\n",
              "      <th>2</th>\n",
              "      <td>3</td>\n",
              "      <td>Switzerland</td>\n",
              "      <td>SUI</td>\n",
              "      <td>0.0</td>\n",
              "      <td>50</td>\n",
              "      <td>9</td>\n",
              "      <td>0.0</td>\n",
              "      <td>0.0</td>\n",
              "      <td>0.0</td>\n",
              "      <td>0.0</td>\n",
              "      <td>0.0</td>\n",
              "      <td>0.0</td>\n",
              "      <td>0.0</td>\n",
              "      <td>0.0</td>\n",
              "      <td>UEFA</td>\n",
              "      <td>1993-08-08</td>\n",
              "    </tr>\n",
              "    <tr>\n",
              "      <th>3</th>\n",
              "      <td>4</td>\n",
              "      <td>Sweden</td>\n",
              "      <td>SWE</td>\n",
              "      <td>0.0</td>\n",
              "      <td>55</td>\n",
              "      <td>0</td>\n",
              "      <td>0.0</td>\n",
              "      <td>0.0</td>\n",
              "      <td>0.0</td>\n",
              "      <td>0.0</td>\n",
              "      <td>0.0</td>\n",
              "      <td>0.0</td>\n",
              "      <td>0.0</td>\n",
              "      <td>0.0</td>\n",
              "      <td>UEFA</td>\n",
              "      <td>1993-08-08</td>\n",
              "    </tr>\n",
              "    <tr>\n",
              "      <th>4</th>\n",
              "      <td>5</td>\n",
              "      <td>Argentina</td>\n",
              "      <td>ARG</td>\n",
              "      <td>0.0</td>\n",
              "      <td>51</td>\n",
              "      <td>5</td>\n",
              "      <td>0.0</td>\n",
              "      <td>0.0</td>\n",
              "      <td>0.0</td>\n",
              "      <td>0.0</td>\n",
              "      <td>0.0</td>\n",
              "      <td>0.0</td>\n",
              "      <td>0.0</td>\n",
              "      <td>0.0</td>\n",
              "      <td>CONMEBOL</td>\n",
              "      <td>1993-08-08</td>\n",
              "    </tr>\n",
              "  </tbody>\n",
              "</table>\n",
              "</div>"
            ],
            "text/plain": [
              "   rank      country  ... confederation   rank_date\n",
              "0     1      Germany  ...          UEFA  1993-08-08\n",
              "1     2        Italy  ...          UEFA  1993-08-08\n",
              "2     3  Switzerland  ...          UEFA  1993-08-08\n",
              "3     4       Sweden  ...          UEFA  1993-08-08\n",
              "4     5    Argentina  ...      CONMEBOL  1993-08-08\n",
              "\n",
              "[5 rows x 16 columns]"
            ]
          },
          "metadata": {},
          "execution_count": 19
        }
      ]
    },
    {
      "cell_type": "code",
      "metadata": {
        "colab": {
          "base_uri": "https://localhost:8080/",
          "height": 204
        },
        "id": "F6DlrT-UTiDR",
        "outputId": "71031b69-5b87-4605-bf07-ce3068203495"
      },
      "source": [
        "results.head()"
      ],
      "execution_count": 57,
      "outputs": [
        {
          "output_type": "execute_result",
          "data": {
            "text/html": [
              "<div>\n",
              "<style scoped>\n",
              "    .dataframe tbody tr th:only-of-type {\n",
              "        vertical-align: middle;\n",
              "    }\n",
              "\n",
              "    .dataframe tbody tr th {\n",
              "        vertical-align: top;\n",
              "    }\n",
              "\n",
              "    .dataframe thead th {\n",
              "        text-align: right;\n",
              "    }\n",
              "</style>\n",
              "<table border=\"1\" class=\"dataframe\">\n",
              "  <thead>\n",
              "    <tr style=\"text-align: right;\">\n",
              "      <th></th>\n",
              "      <th>date</th>\n",
              "      <th>home_team</th>\n",
              "      <th>away_team</th>\n",
              "      <th>home_score</th>\n",
              "      <th>away_score</th>\n",
              "      <th>tournament</th>\n",
              "      <th>city</th>\n",
              "      <th>country</th>\n",
              "      <th>neutral</th>\n",
              "    </tr>\n",
              "  </thead>\n",
              "  <tbody>\n",
              "    <tr>\n",
              "      <th>0</th>\n",
              "      <td>1872-11-30</td>\n",
              "      <td>Scotland</td>\n",
              "      <td>England</td>\n",
              "      <td>0</td>\n",
              "      <td>0</td>\n",
              "      <td>Friendly</td>\n",
              "      <td>Glasgow</td>\n",
              "      <td>Scotland</td>\n",
              "      <td>False</td>\n",
              "    </tr>\n",
              "    <tr>\n",
              "      <th>1</th>\n",
              "      <td>1873-03-08</td>\n",
              "      <td>England</td>\n",
              "      <td>Scotland</td>\n",
              "      <td>4</td>\n",
              "      <td>2</td>\n",
              "      <td>Friendly</td>\n",
              "      <td>London</td>\n",
              "      <td>England</td>\n",
              "      <td>False</td>\n",
              "    </tr>\n",
              "    <tr>\n",
              "      <th>2</th>\n",
              "      <td>1874-03-07</td>\n",
              "      <td>Scotland</td>\n",
              "      <td>England</td>\n",
              "      <td>2</td>\n",
              "      <td>1</td>\n",
              "      <td>Friendly</td>\n",
              "      <td>Glasgow</td>\n",
              "      <td>Scotland</td>\n",
              "      <td>False</td>\n",
              "    </tr>\n",
              "    <tr>\n",
              "      <th>3</th>\n",
              "      <td>1875-03-06</td>\n",
              "      <td>England</td>\n",
              "      <td>Scotland</td>\n",
              "      <td>2</td>\n",
              "      <td>2</td>\n",
              "      <td>Friendly</td>\n",
              "      <td>London</td>\n",
              "      <td>England</td>\n",
              "      <td>False</td>\n",
              "    </tr>\n",
              "    <tr>\n",
              "      <th>4</th>\n",
              "      <td>1876-03-04</td>\n",
              "      <td>Scotland</td>\n",
              "      <td>England</td>\n",
              "      <td>3</td>\n",
              "      <td>0</td>\n",
              "      <td>Friendly</td>\n",
              "      <td>Glasgow</td>\n",
              "      <td>Scotland</td>\n",
              "      <td>False</td>\n",
              "    </tr>\n",
              "  </tbody>\n",
              "</table>\n",
              "</div>"
            ],
            "text/plain": [
              "         date home_team away_team  ...     city   country neutral\n",
              "0  1872-11-30  Scotland   England  ...  Glasgow  Scotland   False\n",
              "1  1873-03-08   England  Scotland  ...   London   England   False\n",
              "2  1874-03-07  Scotland   England  ...  Glasgow  Scotland   False\n",
              "3  1875-03-06   England  Scotland  ...   London   England   False\n",
              "4  1876-03-04  Scotland   England  ...  Glasgow  Scotland   False\n",
              "\n",
              "[5 rows x 9 columns]"
            ]
          },
          "metadata": {},
          "execution_count": 57
        }
      ]
    },
    {
      "cell_type": "code",
      "metadata": {
        "id": "E90zUEyiVziZ"
      },
      "source": [
        "#Merging the two dataframes\n",
        "fifa_results = pd.merge(fifa_ranking, results, on = 'country', how = 'outer')"
      ],
      "execution_count": 58,
      "outputs": []
    },
    {
      "cell_type": "code",
      "metadata": {
        "colab": {
          "base_uri": "https://localhost:8080/",
          "height": 309
        },
        "id": "dUVBYMlNWR7b",
        "outputId": "a78720bb-7980-4527-89fa-006f6178d939"
      },
      "source": [
        "fifa_results.head()"
      ],
      "execution_count": 59,
      "outputs": [
        {
          "output_type": "execute_result",
          "data": {
            "text/html": [
              "<div>\n",
              "<style scoped>\n",
              "    .dataframe tbody tr th:only-of-type {\n",
              "        vertical-align: middle;\n",
              "    }\n",
              "\n",
              "    .dataframe tbody tr th {\n",
              "        vertical-align: top;\n",
              "    }\n",
              "\n",
              "    .dataframe thead th {\n",
              "        text-align: right;\n",
              "    }\n",
              "</style>\n",
              "<table border=\"1\" class=\"dataframe\">\n",
              "  <thead>\n",
              "    <tr style=\"text-align: right;\">\n",
              "      <th></th>\n",
              "      <th>rank</th>\n",
              "      <th>country</th>\n",
              "      <th>country_abrv</th>\n",
              "      <th>total_points</th>\n",
              "      <th>previous_points</th>\n",
              "      <th>rank_change</th>\n",
              "      <th>cur_year_avg</th>\n",
              "      <th>cur_year_avg_weighted</th>\n",
              "      <th>last_year_avg</th>\n",
              "      <th>last_year_avg_weighted</th>\n",
              "      <th>two_year_ago_avg</th>\n",
              "      <th>two_year_ago_weighted</th>\n",
              "      <th>three_year_ago_avg</th>\n",
              "      <th>three_year_ago_weighted</th>\n",
              "      <th>confederation</th>\n",
              "      <th>rank_date</th>\n",
              "      <th>date</th>\n",
              "      <th>home_team</th>\n",
              "      <th>away_team</th>\n",
              "      <th>home_score</th>\n",
              "      <th>away_score</th>\n",
              "      <th>tournament</th>\n",
              "      <th>city</th>\n",
              "      <th>neutral</th>\n",
              "    </tr>\n",
              "  </thead>\n",
              "  <tbody>\n",
              "    <tr>\n",
              "      <th>0</th>\n",
              "      <td>1.0</td>\n",
              "      <td>Germany</td>\n",
              "      <td>GER</td>\n",
              "      <td>0.0</td>\n",
              "      <td>57.0</td>\n",
              "      <td>0.0</td>\n",
              "      <td>0.0</td>\n",
              "      <td>0.0</td>\n",
              "      <td>0.0</td>\n",
              "      <td>0.0</td>\n",
              "      <td>0.0</td>\n",
              "      <td>0.0</td>\n",
              "      <td>0.0</td>\n",
              "      <td>0.0</td>\n",
              "      <td>UEFA</td>\n",
              "      <td>1993-08-08</td>\n",
              "      <td>1909-04-04</td>\n",
              "      <td>Germany</td>\n",
              "      <td>Switzerland</td>\n",
              "      <td>1.0</td>\n",
              "      <td>0.0</td>\n",
              "      <td>Friendly</td>\n",
              "      <td>Karlsruhe</td>\n",
              "      <td>False</td>\n",
              "    </tr>\n",
              "    <tr>\n",
              "      <th>1</th>\n",
              "      <td>1.0</td>\n",
              "      <td>Germany</td>\n",
              "      <td>GER</td>\n",
              "      <td>0.0</td>\n",
              "      <td>57.0</td>\n",
              "      <td>0.0</td>\n",
              "      <td>0.0</td>\n",
              "      <td>0.0</td>\n",
              "      <td>0.0</td>\n",
              "      <td>0.0</td>\n",
              "      <td>0.0</td>\n",
              "      <td>0.0</td>\n",
              "      <td>0.0</td>\n",
              "      <td>0.0</td>\n",
              "      <td>UEFA</td>\n",
              "      <td>1993-08-08</td>\n",
              "      <td>1910-05-16</td>\n",
              "      <td>Germany</td>\n",
              "      <td>Belgium</td>\n",
              "      <td>0.0</td>\n",
              "      <td>3.0</td>\n",
              "      <td>Friendly</td>\n",
              "      <td>Duisburg</td>\n",
              "      <td>False</td>\n",
              "    </tr>\n",
              "    <tr>\n",
              "      <th>2</th>\n",
              "      <td>1.0</td>\n",
              "      <td>Germany</td>\n",
              "      <td>GER</td>\n",
              "      <td>0.0</td>\n",
              "      <td>57.0</td>\n",
              "      <td>0.0</td>\n",
              "      <td>0.0</td>\n",
              "      <td>0.0</td>\n",
              "      <td>0.0</td>\n",
              "      <td>0.0</td>\n",
              "      <td>0.0</td>\n",
              "      <td>0.0</td>\n",
              "      <td>0.0</td>\n",
              "      <td>0.0</td>\n",
              "      <td>UEFA</td>\n",
              "      <td>1993-08-08</td>\n",
              "      <td>1910-10-16</td>\n",
              "      <td>Germany</td>\n",
              "      <td>Netherlands</td>\n",
              "      <td>1.0</td>\n",
              "      <td>2.0</td>\n",
              "      <td>Friendly</td>\n",
              "      <td>Kleve</td>\n",
              "      <td>False</td>\n",
              "    </tr>\n",
              "    <tr>\n",
              "      <th>3</th>\n",
              "      <td>1.0</td>\n",
              "      <td>Germany</td>\n",
              "      <td>GER</td>\n",
              "      <td>0.0</td>\n",
              "      <td>57.0</td>\n",
              "      <td>0.0</td>\n",
              "      <td>0.0</td>\n",
              "      <td>0.0</td>\n",
              "      <td>0.0</td>\n",
              "      <td>0.0</td>\n",
              "      <td>0.0</td>\n",
              "      <td>0.0</td>\n",
              "      <td>0.0</td>\n",
              "      <td>0.0</td>\n",
              "      <td>UEFA</td>\n",
              "      <td>1993-08-08</td>\n",
              "      <td>1911-03-26</td>\n",
              "      <td>Germany</td>\n",
              "      <td>Switzerland</td>\n",
              "      <td>6.0</td>\n",
              "      <td>2.0</td>\n",
              "      <td>Friendly</td>\n",
              "      <td>Stuttgart</td>\n",
              "      <td>False</td>\n",
              "    </tr>\n",
              "    <tr>\n",
              "      <th>4</th>\n",
              "      <td>1.0</td>\n",
              "      <td>Germany</td>\n",
              "      <td>GER</td>\n",
              "      <td>0.0</td>\n",
              "      <td>57.0</td>\n",
              "      <td>0.0</td>\n",
              "      <td>0.0</td>\n",
              "      <td>0.0</td>\n",
              "      <td>0.0</td>\n",
              "      <td>0.0</td>\n",
              "      <td>0.0</td>\n",
              "      <td>0.0</td>\n",
              "      <td>0.0</td>\n",
              "      <td>0.0</td>\n",
              "      <td>UEFA</td>\n",
              "      <td>1993-08-08</td>\n",
              "      <td>1911-10-09</td>\n",
              "      <td>Germany</td>\n",
              "      <td>Austria</td>\n",
              "      <td>1.0</td>\n",
              "      <td>2.0</td>\n",
              "      <td>Friendly</td>\n",
              "      <td>Dresden</td>\n",
              "      <td>False</td>\n",
              "    </tr>\n",
              "  </tbody>\n",
              "</table>\n",
              "</div>"
            ],
            "text/plain": [
              "   rank  country country_abrv  ...  tournament       city  neutral\n",
              "0   1.0  Germany          GER  ...    Friendly  Karlsruhe    False\n",
              "1   1.0  Germany          GER  ...    Friendly   Duisburg    False\n",
              "2   1.0  Germany          GER  ...    Friendly      Kleve    False\n",
              "3   1.0  Germany          GER  ...    Friendly  Stuttgart    False\n",
              "4   1.0  Germany          GER  ...    Friendly    Dresden    False\n",
              "\n",
              "[5 rows x 24 columns]"
            ]
          },
          "metadata": {},
          "execution_count": 59
        }
      ]
    },
    {
      "cell_type": "markdown",
      "metadata": {
        "id": "f4hV97uIWrMH"
      },
      "source": [
        "Dropping irrelevant columns"
      ]
    },
    {
      "cell_type": "code",
      "metadata": {
        "id": "dax2Kl3lWqf5"
      },
      "source": [
        "fifa_results.drop(['country','country_abrv','total_points','previous_points','rank_change','cur_year_avg','cur_year_avg_weighted','last_year_avg','last_year_avg_weighted','two_year_ago_avg','two_year_ago_weighted','three_year_ago_avg','three_year_ago_weighted','confederation','date'], axis=1, inplace=True)"
      ],
      "execution_count": 60,
      "outputs": []
    },
    {
      "cell_type": "code",
      "metadata": {
        "id": "KcPF2EWkZdRV"
      },
      "source": [
        "fifa_results.drop(['city'], axis=1, inplace=True)"
      ],
      "execution_count": 62,
      "outputs": []
    },
    {
      "cell_type": "code",
      "metadata": {
        "colab": {
          "base_uri": "https://localhost:8080/",
          "height": 204
        },
        "id": "YubuM1UMYf_o",
        "outputId": "ff5b0d8c-834a-408a-c856-1bc92d26e832"
      },
      "source": [
        "fifa_results.head()"
      ],
      "execution_count": 63,
      "outputs": [
        {
          "output_type": "execute_result",
          "data": {
            "text/html": [
              "<div>\n",
              "<style scoped>\n",
              "    .dataframe tbody tr th:only-of-type {\n",
              "        vertical-align: middle;\n",
              "    }\n",
              "\n",
              "    .dataframe tbody tr th {\n",
              "        vertical-align: top;\n",
              "    }\n",
              "\n",
              "    .dataframe thead th {\n",
              "        text-align: right;\n",
              "    }\n",
              "</style>\n",
              "<table border=\"1\" class=\"dataframe\">\n",
              "  <thead>\n",
              "    <tr style=\"text-align: right;\">\n",
              "      <th></th>\n",
              "      <th>rank</th>\n",
              "      <th>rank_date</th>\n",
              "      <th>home_team</th>\n",
              "      <th>away_team</th>\n",
              "      <th>home_score</th>\n",
              "      <th>away_score</th>\n",
              "      <th>tournament</th>\n",
              "      <th>neutral</th>\n",
              "    </tr>\n",
              "  </thead>\n",
              "  <tbody>\n",
              "    <tr>\n",
              "      <th>0</th>\n",
              "      <td>1.0</td>\n",
              "      <td>1993-08-08</td>\n",
              "      <td>Germany</td>\n",
              "      <td>Switzerland</td>\n",
              "      <td>1.0</td>\n",
              "      <td>0.0</td>\n",
              "      <td>Friendly</td>\n",
              "      <td>False</td>\n",
              "    </tr>\n",
              "    <tr>\n",
              "      <th>1</th>\n",
              "      <td>1.0</td>\n",
              "      <td>1993-08-08</td>\n",
              "      <td>Germany</td>\n",
              "      <td>Belgium</td>\n",
              "      <td>0.0</td>\n",
              "      <td>3.0</td>\n",
              "      <td>Friendly</td>\n",
              "      <td>False</td>\n",
              "    </tr>\n",
              "    <tr>\n",
              "      <th>2</th>\n",
              "      <td>1.0</td>\n",
              "      <td>1993-08-08</td>\n",
              "      <td>Germany</td>\n",
              "      <td>Netherlands</td>\n",
              "      <td>1.0</td>\n",
              "      <td>2.0</td>\n",
              "      <td>Friendly</td>\n",
              "      <td>False</td>\n",
              "    </tr>\n",
              "    <tr>\n",
              "      <th>3</th>\n",
              "      <td>1.0</td>\n",
              "      <td>1993-08-08</td>\n",
              "      <td>Germany</td>\n",
              "      <td>Switzerland</td>\n",
              "      <td>6.0</td>\n",
              "      <td>2.0</td>\n",
              "      <td>Friendly</td>\n",
              "      <td>False</td>\n",
              "    </tr>\n",
              "    <tr>\n",
              "      <th>4</th>\n",
              "      <td>1.0</td>\n",
              "      <td>1993-08-08</td>\n",
              "      <td>Germany</td>\n",
              "      <td>Austria</td>\n",
              "      <td>1.0</td>\n",
              "      <td>2.0</td>\n",
              "      <td>Friendly</td>\n",
              "      <td>False</td>\n",
              "    </tr>\n",
              "  </tbody>\n",
              "</table>\n",
              "</div>"
            ],
            "text/plain": [
              "   rank   rank_date home_team  ... away_score  tournament  neutral\n",
              "0   1.0  1993-08-08   Germany  ...        0.0    Friendly    False\n",
              "1   1.0  1993-08-08   Germany  ...        3.0    Friendly    False\n",
              "2   1.0  1993-08-08   Germany  ...        2.0    Friendly    False\n",
              "3   1.0  1993-08-08   Germany  ...        2.0    Friendly    False\n",
              "4   1.0  1993-08-08   Germany  ...        2.0    Friendly    False\n",
              "\n",
              "[5 rows x 8 columns]"
            ]
          },
          "metadata": {},
          "execution_count": 63
        }
      ]
    },
    {
      "cell_type": "markdown",
      "metadata": {
        "id": "40j9wC9wfbot"
      },
      "source": [
        "Creating home team rank and away team rank columns"
      ]
    },
    {
      "cell_type": "code",
      "metadata": {
        "id": "MBzk0IYBbaGU"
      },
      "source": [
        "Home_rank = fifa_results[['home_team','rank']]"
      ],
      "execution_count": 66,
      "outputs": []
    },
    {
      "cell_type": "code",
      "metadata": {
        "id": "eSP5MinCZzxa"
      },
      "source": [
        "fifa_results['Home_Team_Rank'] = Home_rank['rank']"
      ],
      "execution_count": 165,
      "outputs": []
    },
    {
      "cell_type": "code",
      "metadata": {
        "colab": {
          "base_uri": "https://localhost:8080/",
          "height": 419
        },
        "id": "tnIGwVsicwwG",
        "outputId": "df728332-51f0-413d-bb5c-1eaaa8457832"
      },
      "source": [
        "Home_rank"
      ],
      "execution_count": 166,
      "outputs": [
        {
          "output_type": "execute_result",
          "data": {
            "text/html": [
              "<div>\n",
              "<style scoped>\n",
              "    .dataframe tbody tr th:only-of-type {\n",
              "        vertical-align: middle;\n",
              "    }\n",
              "\n",
              "    .dataframe tbody tr th {\n",
              "        vertical-align: top;\n",
              "    }\n",
              "\n",
              "    .dataframe thead th {\n",
              "        text-align: right;\n",
              "    }\n",
              "</style>\n",
              "<table border=\"1\" class=\"dataframe\">\n",
              "  <thead>\n",
              "    <tr style=\"text-align: right;\">\n",
              "      <th></th>\n",
              "      <th>home_team</th>\n",
              "      <th>rank</th>\n",
              "    </tr>\n",
              "  </thead>\n",
              "  <tbody>\n",
              "    <tr>\n",
              "      <th>0</th>\n",
              "      <td>Germany</td>\n",
              "      <td>1.0</td>\n",
              "    </tr>\n",
              "    <tr>\n",
              "      <th>1</th>\n",
              "      <td>Germany</td>\n",
              "      <td>1.0</td>\n",
              "    </tr>\n",
              "    <tr>\n",
              "      <th>2</th>\n",
              "      <td>Germany</td>\n",
              "      <td>1.0</td>\n",
              "    </tr>\n",
              "    <tr>\n",
              "      <th>3</th>\n",
              "      <td>Germany</td>\n",
              "      <td>1.0</td>\n",
              "    </tr>\n",
              "    <tr>\n",
              "      <th>4</th>\n",
              "      <td>Germany</td>\n",
              "      <td>1.0</td>\n",
              "    </tr>\n",
              "    <tr>\n",
              "      <th>...</th>\n",
              "      <td>...</td>\n",
              "      <td>...</td>\n",
              "    </tr>\n",
              "    <tr>\n",
              "      <th>10244202</th>\n",
              "      <td>Northern Mariana Islands</td>\n",
              "      <td>NaN</td>\n",
              "    </tr>\n",
              "    <tr>\n",
              "      <th>10244203</th>\n",
              "      <td>East Timor</td>\n",
              "      <td>NaN</td>\n",
              "    </tr>\n",
              "    <tr>\n",
              "      <th>10244204</th>\n",
              "      <td>East Timor</td>\n",
              "      <td>NaN</td>\n",
              "    </tr>\n",
              "    <tr>\n",
              "      <th>10244205</th>\n",
              "      <td>East Timor</td>\n",
              "      <td>NaN</td>\n",
              "    </tr>\n",
              "    <tr>\n",
              "      <th>10244206</th>\n",
              "      <td>East Timor</td>\n",
              "      <td>NaN</td>\n",
              "    </tr>\n",
              "  </tbody>\n",
              "</table>\n",
              "<p>10244207 rows × 2 columns</p>\n",
              "</div>"
            ],
            "text/plain": [
              "                         home_team  rank\n",
              "0                          Germany   1.0\n",
              "1                          Germany   1.0\n",
              "2                          Germany   1.0\n",
              "3                          Germany   1.0\n",
              "4                          Germany   1.0\n",
              "...                            ...   ...\n",
              "10244202  Northern Mariana Islands   NaN\n",
              "10244203                East Timor   NaN\n",
              "10244204                East Timor   NaN\n",
              "10244205                East Timor   NaN\n",
              "10244206                East Timor   NaN\n",
              "\n",
              "[10244207 rows x 2 columns]"
            ]
          },
          "metadata": {},
          "execution_count": 166
        }
      ]
    },
    {
      "cell_type": "code",
      "metadata": {
        "id": "YENF2w6ndn5i"
      },
      "source": [
        "away_rank = fifa_results[['away_team','rank']]"
      ],
      "execution_count": 74,
      "outputs": []
    },
    {
      "cell_type": "code",
      "metadata": {
        "id": "wSk7JeMZd5j7"
      },
      "source": [
        "fifa_results['Away_Team_Rank'] = away_rank['rank']"
      ],
      "execution_count": 76,
      "outputs": []
    },
    {
      "cell_type": "code",
      "metadata": {
        "colab": {
          "base_uri": "https://localhost:8080/",
          "height": 204
        },
        "id": "4OmvjuojeBVg",
        "outputId": "d3f71b1c-98ac-44b0-a79c-2308698f9b8e"
      },
      "source": [
        "away_rank.head()"
      ],
      "execution_count": 75,
      "outputs": [
        {
          "output_type": "execute_result",
          "data": {
            "text/html": [
              "<div>\n",
              "<style scoped>\n",
              "    .dataframe tbody tr th:only-of-type {\n",
              "        vertical-align: middle;\n",
              "    }\n",
              "\n",
              "    .dataframe tbody tr th {\n",
              "        vertical-align: top;\n",
              "    }\n",
              "\n",
              "    .dataframe thead th {\n",
              "        text-align: right;\n",
              "    }\n",
              "</style>\n",
              "<table border=\"1\" class=\"dataframe\">\n",
              "  <thead>\n",
              "    <tr style=\"text-align: right;\">\n",
              "      <th></th>\n",
              "      <th>away_team</th>\n",
              "      <th>rank</th>\n",
              "    </tr>\n",
              "  </thead>\n",
              "  <tbody>\n",
              "    <tr>\n",
              "      <th>0</th>\n",
              "      <td>Switzerland</td>\n",
              "      <td>1.0</td>\n",
              "    </tr>\n",
              "    <tr>\n",
              "      <th>1</th>\n",
              "      <td>Belgium</td>\n",
              "      <td>1.0</td>\n",
              "    </tr>\n",
              "    <tr>\n",
              "      <th>2</th>\n",
              "      <td>Netherlands</td>\n",
              "      <td>1.0</td>\n",
              "    </tr>\n",
              "    <tr>\n",
              "      <th>3</th>\n",
              "      <td>Switzerland</td>\n",
              "      <td>1.0</td>\n",
              "    </tr>\n",
              "    <tr>\n",
              "      <th>4</th>\n",
              "      <td>Austria</td>\n",
              "      <td>1.0</td>\n",
              "    </tr>\n",
              "  </tbody>\n",
              "</table>\n",
              "</div>"
            ],
            "text/plain": [
              "     away_team  rank\n",
              "0  Switzerland   1.0\n",
              "1      Belgium   1.0\n",
              "2  Netherlands   1.0\n",
              "3  Switzerland   1.0\n",
              "4      Austria   1.0"
            ]
          },
          "metadata": {},
          "execution_count": 75
        }
      ]
    },
    {
      "cell_type": "markdown",
      "metadata": {
        "id": "l7x_8rLMfqb5"
      },
      "source": [
        "Separing years from the datetime column"
      ]
    },
    {
      "cell_type": "code",
      "metadata": {
        "id": "56ExOLiSfGRI"
      },
      "source": [
        "import datetime as dt\n",
        "fifa_results['rank_date'] = pd.to_datetime(fifa_results['rank_date'], format='%Y%m%d')\n",
        "fifa_results['year'] = fifa_results['rank_date'].dt.year"
      ],
      "execution_count": 90,
      "outputs": []
    },
    {
      "cell_type": "code",
      "metadata": {
        "colab": {
          "base_uri": "https://localhost:8080/"
        },
        "id": "J3stPihZgKQ1",
        "outputId": "e8d1b634-c60b-40a2-a68b-4701dffaac70"
      },
      "source": [
        "fifa_results['rank_date'].dtypes"
      ],
      "execution_count": 92,
      "outputs": [
        {
          "output_type": "execute_result",
          "data": {
            "text/plain": [
              "dtype('<M8[ns]')"
            ]
          },
          "metadata": {},
          "execution_count": 92
        }
      ]
    },
    {
      "cell_type": "markdown",
      "metadata": {
        "id": "qFAgGSg0f4C-"
      },
      "source": [
        "Adding a new column of status that contains\n",
        "\n",
        "*lose(L)\n",
        "*win(W)\n",
        "*draw(D)"
      ]
    },
    {
      "cell_type": "code",
      "metadata": {
        "id": "2RUO1IzYrai3"
      },
      "source": [
        "fifa_results['status'] = np.where(fifa_results['home_score'] == fifa_results['away_score'], 'D', np.where(\n",
        "    fifa_results['home_score'] > fifa_results['away_score'], 'W','L'))"
      ],
      "execution_count": 94,
      "outputs": []
    },
    {
      "cell_type": "code",
      "metadata": {
        "id": "nTP7L86WpjnG"
      },
      "source": [
        "#Dropping duplicates\n",
        "fifa_results.drop_duplicates(keep=False, inplace=True)"
      ],
      "execution_count": 96,
      "outputs": []
    },
    {
      "cell_type": "code",
      "metadata": {
        "id": "68iSRrMf1joM"
      },
      "source": [
        "#Dropping null values\n",
        "fifa_results.dropna(inplace=True)"
      ],
      "execution_count": 97,
      "outputs": []
    },
    {
      "cell_type": "code",
      "metadata": {
        "id": "3-VivGMj2Ruh"
      },
      "source": [
        "#Renaming columns appropriately\n",
        "fifa_results.rename(columns={'home_score':'Home_Team_Score', 'away_score':'Away_Team_Score'}, inplace=True)"
      ],
      "execution_count": 99,
      "outputs": []
    },
    {
      "cell_type": "code",
      "metadata": {
        "colab": {
          "base_uri": "https://localhost:8080/",
          "height": 309
        },
        "id": "pKV7p65rc-JD",
        "outputId": "78976446-e0bb-4b81-cc44-ae01d78f79c9"
      },
      "source": [
        "fifa_results.head()"
      ],
      "execution_count": 100,
      "outputs": [
        {
          "output_type": "execute_result",
          "data": {
            "text/html": [
              "<div>\n",
              "<style scoped>\n",
              "    .dataframe tbody tr th:only-of-type {\n",
              "        vertical-align: middle;\n",
              "    }\n",
              "\n",
              "    .dataframe tbody tr th {\n",
              "        vertical-align: top;\n",
              "    }\n",
              "\n",
              "    .dataframe thead th {\n",
              "        text-align: right;\n",
              "    }\n",
              "</style>\n",
              "<table border=\"1\" class=\"dataframe\">\n",
              "  <thead>\n",
              "    <tr style=\"text-align: right;\">\n",
              "      <th></th>\n",
              "      <th>rank</th>\n",
              "      <th>rank_date</th>\n",
              "      <th>home_team</th>\n",
              "      <th>away_team</th>\n",
              "      <th>Home_Team_Score</th>\n",
              "      <th>Away_Team_Score</th>\n",
              "      <th>tournament</th>\n",
              "      <th>neutral</th>\n",
              "      <th>Home_Team_Rank</th>\n",
              "      <th>Away_Team_Rank</th>\n",
              "      <th>year</th>\n",
              "      <th>status</th>\n",
              "    </tr>\n",
              "  </thead>\n",
              "  <tbody>\n",
              "    <tr>\n",
              "      <th>1</th>\n",
              "      <td>1.0</td>\n",
              "      <td>1993-08-08</td>\n",
              "      <td>Germany</td>\n",
              "      <td>Belgium</td>\n",
              "      <td>0.0</td>\n",
              "      <td>3.0</td>\n",
              "      <td>Friendly</td>\n",
              "      <td>False</td>\n",
              "      <td>1.0</td>\n",
              "      <td>1.0</td>\n",
              "      <td>1993.0</td>\n",
              "      <td>L</td>\n",
              "    </tr>\n",
              "    <tr>\n",
              "      <th>3</th>\n",
              "      <td>1.0</td>\n",
              "      <td>1993-08-08</td>\n",
              "      <td>Germany</td>\n",
              "      <td>Switzerland</td>\n",
              "      <td>6.0</td>\n",
              "      <td>2.0</td>\n",
              "      <td>Friendly</td>\n",
              "      <td>False</td>\n",
              "      <td>1.0</td>\n",
              "      <td>1.0</td>\n",
              "      <td>1993.0</td>\n",
              "      <td>W</td>\n",
              "    </tr>\n",
              "    <tr>\n",
              "      <th>4</th>\n",
              "      <td>1.0</td>\n",
              "      <td>1993-08-08</td>\n",
              "      <td>Germany</td>\n",
              "      <td>Austria</td>\n",
              "      <td>1.0</td>\n",
              "      <td>2.0</td>\n",
              "      <td>Friendly</td>\n",
              "      <td>False</td>\n",
              "      <td>1.0</td>\n",
              "      <td>1.0</td>\n",
              "      <td>1993.0</td>\n",
              "      <td>L</td>\n",
              "    </tr>\n",
              "    <tr>\n",
              "      <th>5</th>\n",
              "      <td>1.0</td>\n",
              "      <td>1993-08-08</td>\n",
              "      <td>Germany</td>\n",
              "      <td>Sweden</td>\n",
              "      <td>1.0</td>\n",
              "      <td>3.0</td>\n",
              "      <td>Friendly</td>\n",
              "      <td>False</td>\n",
              "      <td>1.0</td>\n",
              "      <td>1.0</td>\n",
              "      <td>1993.0</td>\n",
              "      <td>L</td>\n",
              "    </tr>\n",
              "    <tr>\n",
              "      <th>6</th>\n",
              "      <td>1.0</td>\n",
              "      <td>1993-08-08</td>\n",
              "      <td>Germany</td>\n",
              "      <td>Hungary</td>\n",
              "      <td>1.0</td>\n",
              "      <td>4.0</td>\n",
              "      <td>Friendly</td>\n",
              "      <td>False</td>\n",
              "      <td>1.0</td>\n",
              "      <td>1.0</td>\n",
              "      <td>1993.0</td>\n",
              "      <td>L</td>\n",
              "    </tr>\n",
              "  </tbody>\n",
              "</table>\n",
              "</div>"
            ],
            "text/plain": [
              "   rank  rank_date home_team  ... Away_Team_Rank    year  status\n",
              "1   1.0 1993-08-08   Germany  ...            1.0  1993.0       L\n",
              "3   1.0 1993-08-08   Germany  ...            1.0  1993.0       W\n",
              "4   1.0 1993-08-08   Germany  ...            1.0  1993.0       L\n",
              "5   1.0 1993-08-08   Germany  ...            1.0  1993.0       L\n",
              "6   1.0 1993-08-08   Germany  ...            1.0  1993.0       L\n",
              "\n",
              "[5 rows x 12 columns]"
            ]
          },
          "metadata": {},
          "execution_count": 100
        }
      ]
    },
    {
      "cell_type": "code",
      "metadata": {
        "id": "mUiR8oCl17Ar"
      },
      "source": [
        "#Creating the final clean dataset\n",
        "df = fifa_results[['home_team', 'Home_Team_Score', 'away_team', 'Away_Team_Score', 'year', 'Home_Team_Rank', 'Away_Team_Rank', 'tournament', 'status']]"
      ],
      "execution_count": 102,
      "outputs": []
    },
    {
      "cell_type": "code",
      "metadata": {
        "colab": {
          "base_uri": "https://localhost:8080/"
        },
        "id": "JTS7CGYn4fiq",
        "outputId": "704d6a65-6830-4cee-f099-4059463af2e8"
      },
      "source": [
        "# Feature engineering\n",
        "df['tournament'] = df['tournament'].apply(lambda x:1 if x == 'Friendly' else 2 if x == 'World cup' else 3)"
      ],
      "execution_count": 105,
      "outputs": [
        {
          "output_type": "stream",
          "name": "stderr",
          "text": [
            "/usr/local/lib/python3.7/dist-packages/ipykernel_launcher.py:1: SettingWithCopyWarning: \n",
            "A value is trying to be set on a copy of a slice from a DataFrame.\n",
            "Try using .loc[row_indexer,col_indexer] = value instead\n",
            "\n",
            "See the caveats in the documentation: https://pandas.pydata.org/pandas-docs/stable/user_guide/indexing.html#returning-a-view-versus-a-copy\n",
            "  \"\"\"Entry point for launching an IPython kernel.\n"
          ]
        }
      ]
    },
    {
      "cell_type": "code",
      "metadata": {
        "colab": {
          "base_uri": "https://localhost:8080/",
          "height": 204
        },
        "id": "KzxTCpJc3sdM",
        "outputId": "ec1391e8-f5c7-4ead-c5ab-de181ed6abfd"
      },
      "source": [
        "df.head()"
      ],
      "execution_count": 106,
      "outputs": [
        {
          "output_type": "execute_result",
          "data": {
            "text/html": [
              "<div>\n",
              "<style scoped>\n",
              "    .dataframe tbody tr th:only-of-type {\n",
              "        vertical-align: middle;\n",
              "    }\n",
              "\n",
              "    .dataframe tbody tr th {\n",
              "        vertical-align: top;\n",
              "    }\n",
              "\n",
              "    .dataframe thead th {\n",
              "        text-align: right;\n",
              "    }\n",
              "</style>\n",
              "<table border=\"1\" class=\"dataframe\">\n",
              "  <thead>\n",
              "    <tr style=\"text-align: right;\">\n",
              "      <th></th>\n",
              "      <th>home_team</th>\n",
              "      <th>Home_Team_Score</th>\n",
              "      <th>away_team</th>\n",
              "      <th>Away_Team_Score</th>\n",
              "      <th>year</th>\n",
              "      <th>Home_Team_Rank</th>\n",
              "      <th>Away_Team_Rank</th>\n",
              "      <th>tournament</th>\n",
              "      <th>status</th>\n",
              "    </tr>\n",
              "  </thead>\n",
              "  <tbody>\n",
              "    <tr>\n",
              "      <th>1</th>\n",
              "      <td>Germany</td>\n",
              "      <td>0.0</td>\n",
              "      <td>Belgium</td>\n",
              "      <td>3.0</td>\n",
              "      <td>1993.0</td>\n",
              "      <td>1.0</td>\n",
              "      <td>1.0</td>\n",
              "      <td>1</td>\n",
              "      <td>L</td>\n",
              "    </tr>\n",
              "    <tr>\n",
              "      <th>3</th>\n",
              "      <td>Germany</td>\n",
              "      <td>6.0</td>\n",
              "      <td>Switzerland</td>\n",
              "      <td>2.0</td>\n",
              "      <td>1993.0</td>\n",
              "      <td>1.0</td>\n",
              "      <td>1.0</td>\n",
              "      <td>1</td>\n",
              "      <td>W</td>\n",
              "    </tr>\n",
              "    <tr>\n",
              "      <th>4</th>\n",
              "      <td>Germany</td>\n",
              "      <td>1.0</td>\n",
              "      <td>Austria</td>\n",
              "      <td>2.0</td>\n",
              "      <td>1993.0</td>\n",
              "      <td>1.0</td>\n",
              "      <td>1.0</td>\n",
              "      <td>1</td>\n",
              "      <td>L</td>\n",
              "    </tr>\n",
              "    <tr>\n",
              "      <th>5</th>\n",
              "      <td>Germany</td>\n",
              "      <td>1.0</td>\n",
              "      <td>Sweden</td>\n",
              "      <td>3.0</td>\n",
              "      <td>1993.0</td>\n",
              "      <td>1.0</td>\n",
              "      <td>1.0</td>\n",
              "      <td>1</td>\n",
              "      <td>L</td>\n",
              "    </tr>\n",
              "    <tr>\n",
              "      <th>6</th>\n",
              "      <td>Germany</td>\n",
              "      <td>1.0</td>\n",
              "      <td>Hungary</td>\n",
              "      <td>4.0</td>\n",
              "      <td>1993.0</td>\n",
              "      <td>1.0</td>\n",
              "      <td>1.0</td>\n",
              "      <td>1</td>\n",
              "      <td>L</td>\n",
              "    </tr>\n",
              "  </tbody>\n",
              "</table>\n",
              "</div>"
            ],
            "text/plain": [
              "  home_team  Home_Team_Score    away_team  ...  Away_Team_Rank  tournament  status\n",
              "1   Germany              0.0      Belgium  ...             1.0           1       L\n",
              "3   Germany              6.0  Switzerland  ...             1.0           1       W\n",
              "4   Germany              1.0      Austria  ...             1.0           1       L\n",
              "5   Germany              1.0       Sweden  ...             1.0           1       L\n",
              "6   Germany              1.0      Hungary  ...             1.0           1       L\n",
              "\n",
              "[5 rows x 9 columns]"
            ]
          },
          "metadata": {},
          "execution_count": 106
        }
      ]
    },
    {
      "cell_type": "markdown",
      "metadata": {
        "id": "5hruBPBn7MgC"
      },
      "source": [
        "#Sampling"
      ]
    },
    {
      "cell_type": "code",
      "metadata": {
        "id": "rj_-FKYpD53u"
      },
      "source": [
        "#Choosing a sample size for easier analysis\n",
        "# since we have 3 dependent variables and each is supposed to\n",
        "# have 50 features thus we chose a sample size of 150\n",
        "df_sample= df.sample(n=150)"
      ],
      "execution_count": 140,
      "outputs": []
    },
    {
      "cell_type": "code",
      "metadata": {
        "colab": {
          "base_uri": "https://localhost:8080/",
          "height": 258
        },
        "id": "1RMsfUmuEJYH",
        "outputId": "0b8bcc2a-c604-4755-a4fc-783e778bd93f"
      },
      "source": [
        "df_sample.head()"
      ],
      "execution_count": 141,
      "outputs": [
        {
          "output_type": "execute_result",
          "data": {
            "text/html": [
              "<div>\n",
              "<style scoped>\n",
              "    .dataframe tbody tr th:only-of-type {\n",
              "        vertical-align: middle;\n",
              "    }\n",
              "\n",
              "    .dataframe tbody tr th {\n",
              "        vertical-align: top;\n",
              "    }\n",
              "\n",
              "    .dataframe thead th {\n",
              "        text-align: right;\n",
              "    }\n",
              "</style>\n",
              "<table border=\"1\" class=\"dataframe\">\n",
              "  <thead>\n",
              "    <tr style=\"text-align: right;\">\n",
              "      <th></th>\n",
              "      <th>home_team</th>\n",
              "      <th>Home_Team_Score</th>\n",
              "      <th>away_team</th>\n",
              "      <th>Away_Team_Score</th>\n",
              "      <th>year</th>\n",
              "      <th>Home_Team_Rank</th>\n",
              "      <th>Away_Team_Rank</th>\n",
              "      <th>tournament</th>\n",
              "      <th>status</th>\n",
              "    </tr>\n",
              "  </thead>\n",
              "  <tbody>\n",
              "    <tr>\n",
              "      <th>7205276</th>\n",
              "      <td>Latvia</td>\n",
              "      <td>0.0</td>\n",
              "      <td>Uzbekistan</td>\n",
              "      <td>3.0</td>\n",
              "      <td>2005.0</td>\n",
              "      <td>67.0</td>\n",
              "      <td>67.0</td>\n",
              "      <td>1</td>\n",
              "      <td>L</td>\n",
              "    </tr>\n",
              "    <tr>\n",
              "      <th>1609378</th>\n",
              "      <td>Nigeria</td>\n",
              "      <td>1.0</td>\n",
              "      <td>Mali</td>\n",
              "      <td>0.0</td>\n",
              "      <td>2009.0</td>\n",
              "      <td>10.0</td>\n",
              "      <td>10.0</td>\n",
              "      <td>1</td>\n",
              "      <td>W</td>\n",
              "    </tr>\n",
              "    <tr>\n",
              "      <th>4788210</th>\n",
              "      <td>Kuwait</td>\n",
              "      <td>1.0</td>\n",
              "      <td>Bahrain</td>\n",
              "      <td>1.0</td>\n",
              "      <td>2009.0</td>\n",
              "      <td>94.0</td>\n",
              "      <td>94.0</td>\n",
              "      <td>3</td>\n",
              "      <td>D</td>\n",
              "    </tr>\n",
              "    <tr>\n",
              "      <th>5046979</th>\n",
              "      <td>United Arab Emirates</td>\n",
              "      <td>1.0</td>\n",
              "      <td>Lebanon</td>\n",
              "      <td>0.0</td>\n",
              "      <td>2007.0</td>\n",
              "      <td>92.0</td>\n",
              "      <td>92.0</td>\n",
              "      <td>3</td>\n",
              "      <td>W</td>\n",
              "    </tr>\n",
              "    <tr>\n",
              "      <th>2082873</th>\n",
              "      <td>Nigeria</td>\n",
              "      <td>2.0</td>\n",
              "      <td>Morocco</td>\n",
              "      <td>0.0</td>\n",
              "      <td>2000.0</td>\n",
              "      <td>55.0</td>\n",
              "      <td>55.0</td>\n",
              "      <td>3</td>\n",
              "      <td>W</td>\n",
              "    </tr>\n",
              "  </tbody>\n",
              "</table>\n",
              "</div>"
            ],
            "text/plain": [
              "                    home_team  Home_Team_Score  ... tournament  status\n",
              "7205276                Latvia              0.0  ...          1       L\n",
              "1609378               Nigeria              1.0  ...          1       W\n",
              "4788210                Kuwait              1.0  ...          3       D\n",
              "5046979  United Arab Emirates              1.0  ...          3       W\n",
              "2082873               Nigeria              2.0  ...          3       W\n",
              "\n",
              "[5 rows x 9 columns]"
            ]
          },
          "metadata": {},
          "execution_count": 141
        }
      ]
    },
    {
      "cell_type": "markdown",
      "metadata": {
        "id": "AfAEN4PftOrF"
      },
      "source": [
        "#Univariate Analysis"
      ]
    },
    {
      "cell_type": "code",
      "metadata": {
        "colab": {
          "base_uri": "https://localhost:8080/",
          "height": 1000
        },
        "id": "-Gpj3-kIZPMl",
        "outputId": "edf606ca-f552-4887-d2f8-4385d4b471fe"
      },
      "source": [
        "df_sample.hist(bins=30, figsize=(20,20), color='r')"
      ],
      "execution_count": 156,
      "outputs": [
        {
          "output_type": "execute_result",
          "data": {
            "text/plain": [
              "array([[<matplotlib.axes._subplots.AxesSubplot object at 0x7f59d5bdf750>,\n",
              "        <matplotlib.axes._subplots.AxesSubplot object at 0x7f59d5acb2d0>],\n",
              "       [<matplotlib.axes._subplots.AxesSubplot object at 0x7f59d5a7f950>,\n",
              "        <matplotlib.axes._subplots.AxesSubplot object at 0x7f59d5aa9b10>],\n",
              "       [<matplotlib.axes._subplots.AxesSubplot object at 0x7f59d59f6690>,\n",
              "        <matplotlib.axes._subplots.AxesSubplot object at 0x7f59d5a2bd10>]],\n",
              "      dtype=object)"
            ]
          },
          "metadata": {},
          "execution_count": 156
        },
        {
          "output_type": "display_data",
          "data": {
            "image/png": "[encoded data removed]",
            "text/plain": [
              "<Figure size 1440x1440 with 6 Axes>"
            ]
          },
          "metadata": {}
        }
      ]
    },
    {
      "cell_type": "markdown",
      "metadata": {
        "id": "-_WDF5z5I9-4"
      },
      "source": [
        "#Bivariate Analysis"
      ]
    },
    {
      "cell_type": "markdown",
      "metadata": {
        "id": "NAp0szBt9o1S"
      },
      "source": [
        "General Overview(Correlation)"
      ]
    },
    {
      "cell_type": "code",
      "metadata": {
        "colab": {
          "base_uri": "https://localhost:8080/",
          "height": 616
        },
        "id": "4ozObi0Qabez",
        "outputId": "df24a9c9-22ae-4d00-852d-0985c86432a0"
      },
      "source": [
        "correlations = df_sample.corr()\n",
        "f, ax = plt.subplots(figsize=(15,10))\n",
        "sns.heatmap(correlations, annot=True)"
      ],
      "execution_count": 158,
      "outputs": [
        {
          "output_type": "execute_result",
          "data": {
            "text/plain": [
              "<matplotlib.axes._subplots.AxesSubplot at 0x7f59d606e350>"
            ]
          },
          "metadata": {},
          "execution_count": 158
        },
        {
          "output_type": "display_data",
          "data": {
            "image/png": "[encoded data removed]",
            "text/plain": [
              "<Figure size 1080x720 with 2 Axes>"
            ]
          },
          "metadata": {}
        }
      ]
    },
    {
      "cell_type": "code",
      "metadata": {
        "colab": {
          "base_uri": "https://localhost:8080/",
          "height": 235
        },
        "id": "xcUmWTqcAUYs",
        "outputId": "5d427417-33cf-46b2-a553-f0ae41bc50a5"
      },
      "source": [
        "df_sample.corr()"
      ],
      "execution_count": 159,
      "outputs": [
        {
          "output_type": "execute_result",
          "data": {
            "text/html": [
              "<div>\n",
              "<style scoped>\n",
              "    .dataframe tbody tr th:only-of-type {\n",
              "        vertical-align: middle;\n",
              "    }\n",
              "\n",
              "    .dataframe tbody tr th {\n",
              "        vertical-align: top;\n",
              "    }\n",
              "\n",
              "    .dataframe thead th {\n",
              "        text-align: right;\n",
              "    }\n",
              "</style>\n",
              "<table border=\"1\" class=\"dataframe\">\n",
              "  <thead>\n",
              "    <tr style=\"text-align: right;\">\n",
              "      <th></th>\n",
              "      <th>Home_Team_Score</th>\n",
              "      <th>Away_Team_Score</th>\n",
              "      <th>year</th>\n",
              "      <th>Home_Team_Rank</th>\n",
              "      <th>Away_Team_Rank</th>\n",
              "      <th>tournament</th>\n",
              "    </tr>\n",
              "  </thead>\n",
              "  <tbody>\n",
              "    <tr>\n",
              "      <th>Home_Team_Score</th>\n",
              "      <td>1.000000</td>\n",
              "      <td>-0.098977</td>\n",
              "      <td>0.069169</td>\n",
              "      <td>-0.085164</td>\n",
              "      <td>-0.085164</td>\n",
              "      <td>-0.001795</td>\n",
              "    </tr>\n",
              "    <tr>\n",
              "      <th>Away_Team_Score</th>\n",
              "      <td>-0.098977</td>\n",
              "      <td>1.000000</td>\n",
              "      <td>0.008320</td>\n",
              "      <td>0.199074</td>\n",
              "      <td>0.199074</td>\n",
              "      <td>0.014481</td>\n",
              "    </tr>\n",
              "    <tr>\n",
              "      <th>year</th>\n",
              "      <td>0.069169</td>\n",
              "      <td>0.008320</td>\n",
              "      <td>1.000000</td>\n",
              "      <td>0.175289</td>\n",
              "      <td>0.175289</td>\n",
              "      <td>-0.065690</td>\n",
              "    </tr>\n",
              "    <tr>\n",
              "      <th>Home_Team_Rank</th>\n",
              "      <td>-0.085164</td>\n",
              "      <td>0.199074</td>\n",
              "      <td>0.175289</td>\n",
              "      <td>1.000000</td>\n",
              "      <td>1.000000</td>\n",
              "      <td>0.201452</td>\n",
              "    </tr>\n",
              "    <tr>\n",
              "      <th>Away_Team_Rank</th>\n",
              "      <td>-0.085164</td>\n",
              "      <td>0.199074</td>\n",
              "      <td>0.175289</td>\n",
              "      <td>1.000000</td>\n",
              "      <td>1.000000</td>\n",
              "      <td>0.201452</td>\n",
              "    </tr>\n",
              "    <tr>\n",
              "      <th>tournament</th>\n",
              "      <td>-0.001795</td>\n",
              "      <td>0.014481</td>\n",
              "      <td>-0.065690</td>\n",
              "      <td>0.201452</td>\n",
              "      <td>0.201452</td>\n",
              "      <td>1.000000</td>\n",
              "    </tr>\n",
              "  </tbody>\n",
              "</table>\n",
              "</div>"
            ],
            "text/plain": [
              "                 Home_Team_Score  Away_Team_Score  ...  Away_Team_Rank  tournament\n",
              "Home_Team_Score         1.000000        -0.098977  ...       -0.085164   -0.001795\n",
              "Away_Team_Score        -0.098977         1.000000  ...        0.199074    0.014481\n",
              "year                    0.069169         0.008320  ...        0.175289   -0.065690\n",
              "Home_Team_Rank         -0.085164         0.199074  ...        1.000000    0.201452\n",
              "Away_Team_Rank         -0.085164         0.199074  ...        1.000000    0.201452\n",
              "tournament             -0.001795         0.014481  ...        0.201452    1.000000\n",
              "\n",
              "[6 rows x 6 columns]"
            ]
          },
          "metadata": {},
          "execution_count": 159
        }
      ]
    },
    {
      "cell_type": "code",
      "metadata": {
        "colab": {
          "base_uri": "https://localhost:8080/",
          "height": 302
        },
        "id": "qtGLjIn_DjRR",
        "outputId": "4c6809e6-5437-402e-bbb2-cc1517bd9af3"
      },
      "source": [
        "sns.set(style='whitegrid')\n",
        "sns.scatterplot(x='Home_Team_Rank',\n",
        "                y='Away_Team_Rank',\n",
        "                data=df_sample)"
      ],
      "execution_count": 160,
      "outputs": [
        {
          "output_type": "execute_result",
          "data": {
            "text/plain": [
              "<matplotlib.axes._subplots.AxesSubplot at 0x7f59d5a07350>"
            ]
          },
          "metadata": {},
          "execution_count": 160
        },
        {
          "output_type": "display_data",
          "data": {
            "image/png": "[encoded data removed]",
            "text/plain": [
              "<Figure size 432x288 with 1 Axes>"
            ]
          },
          "metadata": {}
        }
      ]
    },
    {
      "cell_type": "markdown",
      "metadata": {
        "id": "yK6P61Mdg-36"
      },
      "source": [
        "there is a linear correlation between away team rank and home team rank"
      ]
    },
    {
      "cell_type": "code",
      "metadata": {
        "colab": {
          "base_uri": "https://localhost:8080/",
          "height": 876
        },
        "id": "6po3uhMYb8Pp",
        "outputId": "57376866-c768-4efb-a114-7457645279c6"
      },
      "source": [
        "plt.figure(figsize=(16,10))\n",
        "sns.set(style='whitegrid', palette='muted', color_codes=True)\n",
        "sns.pairplot(hue='Home_Team_Rank', data=df_sample)"
      ],
      "execution_count": 164,
      "outputs": [
        {
          "output_type": "execute_result",
          "data": {
            "text/plain": [
              "<seaborn.axisgrid.PairGrid at 0x7f59d2ed79d0>"
            ]
          },
          "metadata": {},
          "execution_count": 164
        },
        {
          "output_type": "display_data",
          "data": {
            "text/plain": [
              "<Figure size 1152x720 with 0 Axes>"
            ]
          },
          "metadata": {}
        },
        {
          "output_type": "display_data",
          "data": {
            "image/png": "[encoded data removed]",
            "text/plain": [
              "<Figure size 1018.3x900 with 30 Axes>"
            ]
          },
          "metadata": {}
        }
      ]
    },
    {
      "cell_type": "markdown",
      "metadata": {
        "id": "GWgb7Gx3ZHet"
      },
      "source": [
        "#Polynomial Regression"
      ]
    },
    {
      "cell_type": "markdown",
      "metadata": {
        "id": "ZbYEmhoCfJWZ"
      },
      "source": [
        "#Data pre-processing"
      ]
    },
    {
      "cell_type": "code",
      "metadata": {
        "id": "54RhlrZviSxX"
      },
      "source": [
        "from sklearn.preprocessing import PolynomialFeatures\n",
        "\n",
        "from sklearn.model_selection import train_test_split"
      ],
      "execution_count": 142,
      "outputs": []
    },
    {
      "cell_type": "code",
      "metadata": {
        "id": "g9tQ3pskfWKi"
      },
      "source": [
        "X = df_sample[['Home_Team_Rank', 'Away_Team_Rank', 'tournament']]\n",
        "y = df_sample[['Home_Team_Score']]"
      ],
      "execution_count": 143,
      "outputs": []
    },
    {
      "cell_type": "markdown",
      "metadata": {
        "id": "JkXPjyf9O2pJ"
      },
      "source": [
        "#Feature Engineering"
      ]
    },
    {
      "cell_type": "markdown",
      "metadata": {
        "id": "035ZdYy6ZKst"
      },
      "source": [
        "#Checking for Multicollinearity"
      ]
    },
    {
      "cell_type": "code",
      "metadata": {
        "id": "-YZ3IK6HZU0x"
      },
      "source": [
        "from statsmodels.stats.outliers_influence import variance_inflation_factor\n",
        "\n",
        "def calc_vif(X):\n",
        "  vif = pd.DataFrame()\n",
        "  vif[\"variables\"] = X.columns\n",
        "  vif[\"VIF\"] = [variance_inflation_factor(X.values, i) for i in range(X.shape[1])]\n",
        "\n",
        "  return(vif)"
      ],
      "execution_count": 144,
      "outputs": []
    },
    {
      "cell_type": "code",
      "metadata": {
        "colab": {
          "base_uri": "https://localhost:8080/",
          "height": 196
        },
        "id": "XUFOD0R_dUBQ",
        "outputId": "bace7086-de77-4cd1-dcc8-a75e26739a53"
      },
      "source": [
        "X = df_sample[['Home_Team_Rank', 'Away_Team_Rank', 'tournament']]\n",
        "calc_vif(X)\n"
      ],
      "execution_count": 145,
      "outputs": [
        {
          "output_type": "stream",
          "name": "stderr",
          "text": [
            "/usr/local/lib/python3.7/dist-packages/statsmodels/stats/outliers_influence.py:185: RuntimeWarning: divide by zero encountered in double_scalars\n",
            "  vif = 1. / (1. - r_squared_i)\n"
          ]
        },
        {
          "output_type": "execute_result",
          "data": {
            "text/html": [
              "<div>\n",
              "<style scoped>\n",
              "    .dataframe tbody tr th:only-of-type {\n",
              "        vertical-align: middle;\n",
              "    }\n",
              "\n",
              "    .dataframe tbody tr th {\n",
              "        vertical-align: top;\n",
              "    }\n",
              "\n",
              "    .dataframe thead th {\n",
              "        text-align: right;\n",
              "    }\n",
              "</style>\n",
              "<table border=\"1\" class=\"dataframe\">\n",
              "  <thead>\n",
              "    <tr style=\"text-align: right;\">\n",
              "      <th></th>\n",
              "      <th>variables</th>\n",
              "      <th>VIF</th>\n",
              "    </tr>\n",
              "  </thead>\n",
              "  <tbody>\n",
              "    <tr>\n",
              "      <th>0</th>\n",
              "      <td>Home_Team_Rank</td>\n",
              "      <td>inf</td>\n",
              "    </tr>\n",
              "    <tr>\n",
              "      <th>1</th>\n",
              "      <td>Away_Team_Rank</td>\n",
              "      <td>inf</td>\n",
              "    </tr>\n",
              "    <tr>\n",
              "      <th>2</th>\n",
              "      <td>tournament</td>\n",
              "      <td>2.633203</td>\n",
              "    </tr>\n",
              "  </tbody>\n",
              "</table>\n",
              "</div>"
            ],
            "text/plain": [
              "        variables       VIF\n",
              "0  Home_Team_Rank       inf\n",
              "1  Away_Team_Rank       inf\n",
              "2      tournament  2.633203"
            ]
          },
          "metadata": {},
          "execution_count": 145
        }
      ]
    },
    {
      "cell_type": "markdown",
      "metadata": {
        "id": "RyoxlUR-86FW"
      },
      "source": [
        "*There is a perfect correlation between Home team rank and Away team rank"
      ]
    },
    {
      "cell_type": "markdown",
      "metadata": {
        "id": "fYd7-2Vkgldo"
      },
      "source": [
        "#Training the polynomial regression on the whole dataset"
      ]
    },
    {
      "cell_type": "code",
      "metadata": {
        "id": "I4rp5rKope6x"
      },
      "source": [
        "from sklearn.linear_model import LinearRegression\n",
        "from sklearn.preprocessing import PolynomialFeatures\n",
        "from sklearn import metrics"
      ],
      "execution_count": 152,
      "outputs": []
    },
    {
      "cell_type": "code",
      "metadata": {
        "id": "sWysCuP4sky4"
      },
      "source": [
        "# Splitting the dataset into train and test sets\n",
        "X_train, X_test, Y_train, Y_test = train_test_split(X,y, test_size = 0.2, random_state=0)\n",
        "\n",
        "# Fit Linear Regression model to the dataset\n",
        "reg_line = LinearRegression()\n",
        "reg_line.fit(X,y)\n",
        "\n",
        "# Visualize the Linear Regression results\n",
        "for col in X.columns:\n",
        "  plt.scatter(X[col], y, color='blue')\n",
        "#plt.scatter(X, y, color='blue') \n",
        "  plt.plot(X, reg_line.predict(X), color='red')\n",
        "  plt.title('Home Score(Linear Regression)')\n",
        "  plt.xlabel('Teams')\n",
        "  plt.ylabel('Home Score')\n",
        "  plt.show()\n",
        "\n",
        "\n",
        "# Fitting polynomial Regression to the dataset\n",
        "poly_reg = PolynomialFeatures(degree = 4) \n",
        "X_poly = poly_reg.fit_transform(X)\n",
        "\n",
        "\n",
        "pol_reg = LinearRegression()\n",
        "pol_reg.fit(X_poly, y)\n",
        "\n",
        "#Visualizing the Polynomial Regression results\n",
        "for col in X.columns:\n",
        "  plt.scatter(X[col], y, color='blue') \n",
        "plt.plot(X, pol_reg.predict(X_poly), color='red')\n",
        "plt.title('Home Score (Polynomial Regression)')\n",
        "plt.xlabel('Teams')\n",
        "plt.ylabel('Home Score')\n",
        "plt.show()"
      ],
      "execution_count": null,
      "outputs": []
    },
    {
      "cell_type": "code",
      "metadata": {
        "colab": {
          "base_uri": "https://localhost:8080/"
        },
        "id": "gXzWzWYeSvIr",
        "outputId": "840c31a7-db05-4ca2-eb5f-d67e77e5b03c"
      },
      "source": [
        "print('Mean Absolute Error:', metrics.mean_absolute_error(y_test, y_pred))  \n",
        "print('Mean Squared Error:', metrics.mean_squared_error(y_test, y_pred))  \n",
        "print('Root Mean Squared Error:', np.sqrt(metrics.mean_squared_error(y_test, y_pred)))"
      ],
      "execution_count": 153,
      "outputs": [
        {
          "output_type": "stream",
          "name": "stdout",
          "text": [
            "Mean Absolute Error: 1.4210526315789473\n",
            "Mean Squared Error: 5.105263157894737\n",
            "Root Mean Squared Error: 2.2594829403858614\n"
          ]
        }
      ]
    },
    {
      "cell_type": "markdown",
      "metadata": {
        "id": "bu-GozTP_fAf"
      },
      "source": [
        "#Logistic Regression"
      ]
    },
    {
      "cell_type": "markdown",
      "metadata": {
        "id": "yUSwaYNkLNSz"
      },
      "source": [
        "Data pre-processing"
      ]
    },
    {
      "cell_type": "code",
      "metadata": {
        "id": "fQbercnlAAFR"
      },
      "source": [
        "X = df_sample[['Home_Team_Rank', 'Away_Team_Rank', 'tournament']]\n",
        "y = df_sample[['Away_Team_Score']]"
      ],
      "execution_count": 146,
      "outputs": []
    },
    {
      "cell_type": "markdown",
      "metadata": {
        "id": "Hpl0nQFuK-ve"
      },
      "source": [
        "Splitting the dataset into training set and test set"
      ]
    },
    {
      "cell_type": "code",
      "metadata": {
        "id": "sWn8xFpLLEtl"
      },
      "source": [
        "from sklearn.model_selection import train_test_split\n",
        "X_train, X_test, y_train, y_test = train_test_split(X, y, test_size = 0.25, random_state = 0)"
      ],
      "execution_count": 147,
      "outputs": []
    },
    {
      "cell_type": "markdown",
      "metadata": {
        "id": "GhY2PnzlAO0c"
      },
      "source": [
        "Feature Scaling"
      ]
    },
    {
      "cell_type": "code",
      "metadata": {
        "id": "YokEbbU2ARUK"
      },
      "source": [
        "from sklearn.preprocessing import StandardScaler\n",
        "sc = StandardScaler()\n",
        "X_train = sc.fit_transform(X_train)\n",
        "X_test = sc.transform(X_test)"
      ],
      "execution_count": 148,
      "outputs": []
    },
    {
      "cell_type": "markdown",
      "metadata": {
        "id": "Ol4AUpk2LreS"
      },
      "source": [
        "Training the logistic regression model on the training set"
      ]
    },
    {
      "cell_type": "code",
      "metadata": {
        "colab": {
          "base_uri": "https://localhost:8080/"
        },
        "id": "FT-HB7qbL1Ne",
        "outputId": "dd60aaea-4823-468a-ef67-ee0b9c20d9eb"
      },
      "source": [
        "from sklearn.linear_model import LogisticRegression\n",
        "classifier = LogisticRegression(random_state = 0)\n",
        "classifier.fit(X_train, y_train)"
      ],
      "execution_count": 149,
      "outputs": [
        {
          "output_type": "stream",
          "name": "stderr",
          "text": [
            "/usr/local/lib/python3.7/dist-packages/sklearn/utils/validation.py:760: DataConversionWarning: A column-vector y was passed when a 1d array was expected. Please change the shape of y to (n_samples, ), for example using ravel().\n",
            "  y = column_or_1d(y, warn=True)\n"
          ]
        },
        {
          "output_type": "execute_result",
          "data": {
            "text/plain": [
              "LogisticRegression(C=1.0, class_weight=None, dual=False, fit_intercept=True,\n",
              "                   intercept_scaling=1, l1_ratio=None, max_iter=100,\n",
              "                   multi_class='auto', n_jobs=None, penalty='l2',\n",
              "                   random_state=0, solver='lbfgs', tol=0.0001, verbose=0,\n",
              "                   warm_start=False)"
            ]
          },
          "metadata": {},
          "execution_count": 149
        }
      ]
    },
    {
      "cell_type": "markdown",
      "metadata": {
        "id": "7muMLMMOMSLZ"
      },
      "source": [
        "Predicting the test set results"
      ]
    },
    {
      "cell_type": "code",
      "metadata": {
        "id": "y-Zy9FW6NICh"
      },
      "source": [
        "y_pred = classifier.predict(X_test)"
      ],
      "execution_count": 150,
      "outputs": []
    },
    {
      "cell_type": "markdown",
      "metadata": {
        "id": "shznF7uANUiv"
      },
      "source": [
        "Making the confusion matrix"
      ]
    },
    {
      "cell_type": "code",
      "metadata": {
        "id": "uGHrC7PhNYih"
      },
      "source": [
        "from sklearn.metrics import confusion_matrix, accuracy_score\n",
        "cm = confusion_matrix(y_test, y_pred)\n",
        "print(cm)\n",
        "accuracy_score(y_test, y_pred)"
      ],
      "execution_count": null,
      "outputs": []
    }
  ]
}